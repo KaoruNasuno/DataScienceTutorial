{
 "cells": [
  {
   "cell_type": "markdown",
   "metadata": {},
   "source": [
    "# Data Science Tutorial 02 @ Data Science Society\n",
    "那須野薫(Kaoru Nasuno)/ 東京大学(The University of Tokyo)\n",
    "\n",
    "データサイエンスの基礎的なスキルを身につける為のチュートリアルです。  \n",
    "KaggleのコンペティションであるRECRUIT Challenge, Coupon Purchase Predictionのデータセットを題材として、  \n",
    "データサイエンスの基礎的なスキルに触れ，理解の土台を養うことを目的とします。  \n",
    "(高い予測精度を出すことが目的ではないです)  \n",
    "まだ、書きかけでして、要望に合わせて誤りの修正や加筆をしていく予定です。何かお気づきの点があればご連絡頂けますと幸いです。\n",
    "\n",
    "## 対象データ\n",
    "RECRUIT Challenge, Coupon Purchase Predictionのデータセット。  \n",
    "ユーザ登録や利用規約に同意してダウンロードしてください。  \n",
    "https://www.kaggle.com/c/coupon-purchase-prediction/data\n",
    "\n",
    "## 進め方\n",
    "Lecture01をやっていない方はLecture01を先にやってください。  \n",
    "まずは、全てのコードをコピー&ペーストして、エラーなく動作することを確認しましょう。  \n",
    "この段階でエラーが出る場合には環境が整っていないか、パラメタの設定ができていない等、  \n",
    "プログラムの理解とはあまり関係のない箇所が原因である可能性が高いです。  \n",
    "動作確認が終わったら、ひとつずつ書き写してみて、それぞれどのように動作するかを理解していくという方法をお勧めします。  \n",
    "\n",
    "\n",
    "\n",
    "## 目次\n",
    "1. 下準備\n",
    "2. データベースへのデータの展開\n",
    "3. <span style=\"color: #FF0000;\">モデリング対象の明確化</span>\n",
    "4. <span style=\"color: #FF0000;\">機械学習による予測モデルの構築・精度検証</span>\n",
    "5. <span style=\"color: #FF0000;\">データの概観把握・予測モデルの改善</span>\n",
    "\n"
   ]
  },
  {
   "cell_type": "code",
   "execution_count": 2,
   "metadata": {
    "collapsed": true
   },
   "outputs": [],
   "source": [
    "# TODO: You Must Change the setting bellow\n",
    "MYSQL = {\n",
    "    'user': 'root',\n",
    "    'passwd': '',\n",
    "    'db': 'coupon_purchase',\n",
    "    'host': '127.0.0.1',\n",
    "    'port': 3306,\n",
    "    'local_infile': True,\n",
    "    'charset': 'utf8',\n",
    "}\n",
    "DATA_DIR = '/home/nasuno/recruit_kaggle_datasets'  #  ディレクトリの名前に日本語(マルチバイト文字)は使わないでください。\n",
    "OUTPUTS_DIR = '/home/nasuno/recruit_kaggle/outputs'  # 予測結果などを保存するディレクトリ。"
   ]
  },
  {
   "cell_type": "code",
   "execution_count": 3,
   "metadata": {
    "collapsed": false
   },
   "outputs": [],
   "source": [
    "%matplotlib inline\n",
    "import matplotlib.pyplot as plt\n",
    "import MySQLdb\n",
    "import numpy\n",
    "\n",
    "from sklearn.utils import shuffle\n",
    "from sklearn.cross_validation import train_test_split\n",
    "from sklearn.metrics import f1_score, accuracy_score\n",
    "from sklearn.linear_model import LogisticRegression\n",
    "from datetime import datetime, timedelta\n",
    "from itertools import product\n",
    "\n",
    "# Random Seed\n",
    "rng = numpy.random.RandomState(1234)\n",
    "\n",
    "dbcon = MySQLdb.connect(**MYSQL)\n",
    "dbcur = dbcon.cursor()\n"
   ]
  },
  {
   "cell_type": "markdown",
   "metadata": {
    "collapsed": true
   },
   "source": [
    "## 3. モデリング対象の設定\n",
    "\n",
    "### 対象の明確化\n",
    "このコンペティションの最終的なゴールは、各ユーザが将来どのクーポンを購入するかをより正確に予測することです。  \n",
    "モデリング(≒予測モデルの構築)は\n",
    "- ユーザの属性データ(性別、年代、地域など)  \n",
    "- クーポンの属性データ(ジャンル、価格、地域など)  \n",
    "- いつどのユーザがどのクーポンを見たか、購買したか等のログデータ  \n",
    "\n",
    "の3つのデータを主に利用します（これは、クーポンに限らず他の多くの問題で共通しています)。  \n",
    "これらのデータを利用して将来ユーザがどのクーポンを購買するのかをモデリングするわけですが、  \n",
    "特に、このコンペティションでは、モデリングの良し悪しを評価する指標が与えられており、  \n",
    "参加者はこの指標のスコアを競っている形になっています。  \n",
    "\n",
    "https://www.kaggle.com/c/coupon-purchase-prediction/details/evaluation によれば、  \n",
    "このコンペティションでは、Mean Average Precision@10(MAP@10)という指標を最大化するような予測モデルを構築することが最終的なゴールです。  \n",
    "Map@10は、下記の数式で定義されています。\n",
    "$$\n",
    "MAP@10=\\frac{1}{|U|}\\sum_{u=1}^{|U|}\\frac{1}{min(m, 10)} \\sum_{k=1}^{min(n, 10)}P(k)\n",
    "$$\n",
    "$|U|$：ユーザ数  \n",
    "$P(k)$：k番目まで着目した時のPrecision(購買すると予測したクーポン中の実際に購買されたクーポンの割合)  \n",
    "$n$：購買すると予測されたクーポンの数  \n",
    "$m$：実際に購買されたクーポンの数(m=0の時は、Precision=0)\n",
    "\n",
    "この指標を直接最大化するようにモデリングする方がコンペティションの最終的な評価は高いと考えられますが、  \n",
    "ここでは、簡単のため、下記のように問題を少し変更し別の指標で代替することにします。  \n",
    "- 全てのユーザは検証用の期間で必ずクーポンをちょうど1つ購入する。  \n",
    "- その1つのクーポンを訓練用の期間のデータから予測する。  \n",
    "\n",
    "このように問題を簡単にし、検証用の期間で購買される確率が最も高いクーポンを選択する問題にすることで、  \n",
    "正解率(Accuracy)でモデルの良し悪しを近似的に評価することが出来ます。  \n",
    "このように、近似した問題に対してモデルを構築することとして、以下は進めていきます。\n",
    "\n",
    "### モデル構築に於ける3つのデータ：training data, validation data, test data  \n",
    "\n",
    "データはまず大きく分けて、訓練用のデータとテスト用のデータ(test data)に大別されます。  \n",
    "特に、Kaggleのコンペティションのデータセットは明示的にそれらが分けられているものもあります。  \n",
    "通常、訓練用のデータで予測モデルを構築し、テスト用のデータで構築した予測モデルの精度を検証します。\n",
    "\n",
    "<img src=\"files/data_split.png\" width=\"600px;\"/>\n",
    "\n",
    "\n",
    "このチュートリアルでは、機械学習のアルゴリズムに基づいた予測モデルを構築しますが、  \n",
    "機械学習のアルゴリズムには一般にハイパーパラメタというものが存在します。  \n",
    "機械学習アルゴリズムには、内部パラメタとハイパーパラメタの2つのパラメタがあり、  \n",
    "内部パラメタは自動で学習しますが、ハイパーパラメタは予め設定する必要があります。  \n",
    "良い精度を出すためにはハイパーパラメタをこのうまく調整する必要があります。   \n",
    "\n",
    "\n",
    "実際に予測モデルを構築する際には、訓練用のデータをさらにtraining dataとvalidation dataに分けて、  \n",
    "あるハイパーパラメタでtraining dataから予測モデルを構築しvalidation dataで精度を検証し、  \n",
    "別のハイパーパラメタで予測モデルを構築しvalidation dataで精度を検証し、、、  \n",
    "ということを繰り返します。\n",
    "\n",
    "最終的な精度評価に際しては、  \n",
    "validation dataへの検証実験で良い結果となったハイパーパラメタで構築された予測モデルを今度はtest dataに適用し、  \n",
    "実際に未知のデータに対して、どれくらいの精度で予測できるのかということ検証します。\n",
    "\n",
    "ここでは、便宜的に訓練データの最後の1週間の期間(2012-06-17 00:00:00から2012-06-23 23:59:59)をvalidation dataとし、  \n",
    "残りの約1年の期間をtraining dataとして、データを分割します。"
   ]
  },
  {
   "cell_type": "code",
   "execution_count": 4,
   "metadata": {
    "collapsed": false
   },
   "outputs": [
    {
     "data": {
      "text/plain": [
       "65468L"
      ]
     },
     "execution_count": 4,
     "metadata": {},
     "output_type": "execute_result"
    }
   ],
   "source": [
    "validation_start = datetime.strptime('2012-06-17 00:00:00', '%Y-%m-%d %H:%M:%S')\n",
    "validation_end = validation_start + timedelta(days=7)\n",
    "dbcur.execute(''' DROP TABLE IF EXISTS coupon_visit_train_training;''')  # チュートリアルの便宜上一回削除します。\n",
    "dbcur.execute(''' CREATE TABLE IF NOT EXISTS coupon_visit_train_training LIKE coupon_visit_train;''')\n",
    "dbcur.execute('''\n",
    "    INSERT INTO coupon_visit_train_training\n",
    "        SELECT * \n",
    "        FROM coupon_visit_train\n",
    "        WHERE i_date >= \"2011-07-01 00:00:00\" AND i_date < %s\n",
    "    ;\n",
    "''', (validation_start, ))\n",
    "\n",
    "dbcur.execute(''' DROP TABLE IF EXISTS coupon_visit_train_validation;''')  # チュートリアルの便宜上一回削除します。\n",
    "dbcur.execute(''' CREATE TABLE IF NOT EXISTS coupon_visit_train_validation LIKE coupon_visit_train;''')\n",
    "dbcur.execute('''\n",
    "    INSERT INTO coupon_visit_train_validation\n",
    "        SELECT * \n",
    "        FROM coupon_visit_train\n",
    "        WHERE i_date >= %s\n",
    "    ;\n",
    "''', (validation_start, ))\n"
   ]
  },
  {
   "cell_type": "markdown",
   "metadata": {},
   "source": [
    "### ランダム推定・MAP@10の評価\n",
    "先にも触れましたが、本コンペティションではMAP@10というスコアを競い合っています。  \n",
    "提出のフォーマットは、https://www.kaggle.com/c/coupon-purchase-prediction/details/evaluation に  \n",
    "記載されています。\n",
    "\n",
    "訓練データをtraining dataと validation dataに分割したので、  \n",
    "試しに、各ユーザが購買するクーポンをランダムに推定して、  \n",
    "・MAP@10の性質  \n",
    "・ランダム推定の精度  \n",
    "・サブミッションの形式  \n",
    "をざっくり把握していきましょう。\n",
    "\n",
    "1. validation期間に購買されうるクーポンを抽出する。  \n",
    "2. 抽出したクーポン群から各ユーザが購買するクーポンをランダムに10個選び、予測結果とする。  \n",
    "3. 実際に購買したクーポンと照らし合わせ、MAP@10を算出する。  \n",
    "4. サブミッション用のcsvファイルを作成する。  \n",
    "\n",
    "の4ステップで見ていきます。\n",
    "\n",
    "#### 1. validation期間に購買されうるクーポンを抽出する。  "
   ]
  },
  {
   "cell_type": "code",
   "execution_count": 5,
   "metadata": {
    "collapsed": true
   },
   "outputs": [],
   "source": [
    "# validation 期間に購買されうるクーポンの抽出\n",
    "dbcur.execute('''\n",
    "    SELECT\n",
    "        coupon_id_hash\n",
    "        FROM coupon_list_train\n",
    "        WHERE\n",
    "            NOT (dispend <= %s OR dispfrom > %s)\n",
    "    ;\n",
    "''', (validation_start, validation_end))\n",
    "coupon_ids = []\n",
    "for row in dbcur.fetchall():\n",
    "    coupon_ids.append(row[0])"
   ]
  },
  {
   "cell_type": "markdown",
   "metadata": {},
   "source": [
    "#### 2. 抽出したクーポン群から各ユーザが購買するクーポンをランダムに10個選び、予測結果とする。  \n"
   ]
  },
  {
   "cell_type": "code",
   "execution_count": 6,
   "metadata": {
    "collapsed": true
   },
   "outputs": [],
   "source": [
    "# user_idsをselectして、ランダムに、購買アイテムを割り当てる。\n",
    "dbcur.execute('''\n",
    "    SELECT\n",
    "        user_id_hash\n",
    "        FROM user_list\n",
    "    ;\n",
    "''')\n",
    "user_pcoupon_pred = {}\n",
    "for row in dbcur.fetchall():\n",
    "    user_pcoupon_pred[row[0]] =list(shuffle(coupon_ids, random_state=rng)[:10])"
   ]
  },
  {
   "cell_type": "markdown",
   "metadata": {},
   "source": [
    "#### 3. 実際に購買したクーポンと照らし合わせ、MAP@10を算出する。  \n"
   ]
  },
  {
   "cell_type": "code",
   "execution_count": 7,
   "metadata": {
    "collapsed": false
   },
   "outputs": [
    {
     "name": "stdout",
     "output_type": "stream",
     "text": [
      "max_map@10: 0.08438, map@10: 0.00038\n"
     ]
    }
   ],
   "source": [
    "#  validation期間に購買したクーポンリストを抽出。\n",
    "dbcur.execute('''\n",
    "    SELECT\n",
    "        user_id_hash, view_coupon_id_hash\n",
    "        FROM coupon_visit_train_validation\n",
    "        WHERE purchase_flg = 1\n",
    "    ;\n",
    "''')\n",
    "user_pcoupon_true = {}\n",
    "for row in dbcur.fetchall():\n",
    "    if row[0] not in user_pcoupon_true:\n",
    "        user_pcoupon_true[row[0]] = []\n",
    "    user_pcoupon_true[row[0]].append(row[1])\n",
    "\n",
    "\n",
    "#  ap10を算出する関数を定義。\n",
    "def get_ap10(y_pred, y_true):\n",
    "    ap10 = 0.\n",
    "    y_true = set(y_true)\n",
    "    for i in range(len(y_pred)):\n",
    "        if y_pred[i] in y_true:\n",
    "            c = set(y_pred[:i + 1])\n",
    "            ap10 += len(y_true & c) / float(i + 1)\n",
    "    ap10 /= min(len(y_true), 10)\n",
    "    return ap10\n",
    "\n",
    "map10 = 0.\n",
    "n_purchased_user = 0.\n",
    "for user_id in user_pcoupon_pred:\n",
    "    if user_id not in user_pcoupon_true:\n",
    "        # 当該ユーザがvalidation期間にcouponを買わなかった場合、\n",
    "        # ap@10は0 \n",
    "        continue\n",
    "    n_purchased_user += 1\n",
    "    y_true = user_pcoupon_true[user_id]\n",
    "    y_pred = user_pcoupon_pred[user_id]\n",
    "    \n",
    "    map10 += get_ap10(y_pred, y_true)\n",
    "\n",
    "max_map10 = n_purchased_user / len(user_pcoupon_pred)\n",
    "map10 /= len(user_pcoupon_pred)\n",
    "\n",
    "print 'max_map@10: %.5f, map@10: %.5f' % (max_map10, map10)"
   ]
  },
  {
   "cell_type": "markdown",
   "metadata": {},
   "source": [
    "ランダムだと、全然当たらないですね。  \n",
    "map@10は期間中に何人のユーザが購買しているかによって、最大値が大きく変わります。  \n",
    "従って、一概に他の期間と比較することは出来ませんが、執筆時点で最も高いスコアでも0.01よりも少し多き程度のスコアなので、  \n",
    "スコア自体はまだまだ改善の余地があると考えられます。  \n",
    "※実際にスコアを上げる(=高い精度で予測できるようにする)のは、非常に大変です。\n",
    "\n",
    "#### 4. サブミッション用のcsvファイルを作成する。\n"
   ]
  },
  {
   "cell_type": "code",
   "execution_count": 8,
   "metadata": {
    "collapsed": true
   },
   "outputs": [],
   "source": [
    "output = ['USER_ID_hash,PURCHASED_COUPONS']\n",
    "for user_id in user_pcoupon_pred:\n",
    "    output.append(user_id + ',' + ' '.join(user_pcoupon_pred[user_id]))\n",
    "\n",
    "output = '\\n'.join(output)\n",
    "with open(OUTPUTS_DIR + '/random_prediction_valid.csv', 'wb') as fid:\n",
    "    fid.write(output)\n"
   ]
  },
  {
   "cell_type": "markdown",
   "metadata": {},
   "source": [
    "### Excercise\n",
    "test dataに対して、同様の手法で予測・csvに結果を出力して、  \n",
    "コンペティションにサブミットしてください。  \n",
    "※1日に最大5回までしかサブミットできないので、注意してください。\n"
   ]
  },
  {
   "cell_type": "markdown",
   "metadata": {},
   "source": [
    "## 4. 機械学習アルゴリズムによる予測モデルの構築\n",
    "先の章では、モデリング対象や評価指標への理解を深めました。  \n",
    "具体的に先に挙げた、  \n",
    "- ユーザの属性データ(性別、年代、地域など)  \n",
    "- クーポンの属性データ(ジャンル、価格、地域など)  \n",
    "- いつどのユーザがどのクーポンを見たか、購買したか等のログデータ  \n",
    "\n",
    "のそれぞれの要素がどれぐらい将来の購買行動と関連があるのか、  \n",
    "を考える前に、まず簡単に機械学習アルゴリズムによる予測モデルを構築して、  \n",
    "アルゴリズムの内部がどうなっているのか、  \n",
    "アルゴリズムのinputとoutputがどうなっているのか、  \n",
    "見ていきましょう。  \n",
    "\n",
    "ここでは、下記の設定、  \n",
    "対象アルゴリズム：ロジスティック回帰  \n",
    "対象データ：ユーザの属性データとクーポンの属性データ  \n",
    "将来購買されるクーポンを予測するということをやってみましょう。\n",
    "\n",
    "### 機械学習アルゴリズム\n",
    "ロジスティック回帰は非常にシンプルなアルゴリズムで\n",
    "下記の数式のように定義されています。\n",
    "$$\n",
    "v=Wx+b  \n",
    "$$\n",
    "$$\n",
    "y \\simeq \\tilde{y}=\\frac{exp(v)}{\\sum_{k=1}^{N}exp(v_k)}  \n",
    "$$\n",
    "\n",
    "$x$：素性ベクトル(ユーザとクーポンの特徴を表現したベクトル)  \n",
    "$W$：素性ベクトルの各列をどれだけ評価するかのウェイトマトリックス(パラメタ)  \n",
    "$b$：バイアス項(パラメタ)  \n",
    "$N$：クラスの数(この場合、買われたか否か)  \n",
    "$v$：N次元ベクトル  \n",
    "$\\tilde{y}$：各クラスが発生する確率  \n",
    "$y$：正解ベクトル  \n",
    "\n",
    "ロジスティック回帰は与えられた素性ベクトル$x$の各次元の重みを評価して、各クラスに所属する確率$\\tilde{y}$を算出します。  \n",
    "モデルの学習の際には、$\\tilde{y}$と$y$の誤差が最小となるように内部のパラメタ$W$と$b$を学習し、  \n",
    "予測の際には、入力$x$を計算式に当てはめ、出力結果$\\tilde{y}$を見て、例えば、所属する確率が最大のクラスを予測結果とします。  \n",
    "つまり、学習の際は入力は$x$と$y$で、予測の際は入力は$x$のみです。  \n",
    "これは、他の多くの機械学習アルゴリズムに共通です。  \n",
    "機械学習ライブラリの1つであるscikit-learnは、  \n",
    "多くの機械学習アルゴリズムに対して共通のフレームワークで提供され内部がブラックボックス化されており、  \n",
    "中身が分からなくても簡単に利用できるものとなっています。  \n",
    "ここでは、scikit-learnで提供されているロジスティック回帰を利用していきます。  \n",
    "\n",
    "### データ加工(素性/ラベル作成)\n",
    "簡単のためログデータを用いずに、  \n",
    "ユーザの属性データとクーポンの属性データのみを用いて素性$x$を作成します。  \n",
    "\n",
    "特徴ベクトルを作成する際には、\n",
    "1. 各次元のスケールを合わせる  \n",
    "2. 連続値で表現すべきでないところは、フラグにする  \n",
    "\n",
    "を意識しましょう。\n",
    "\n",
    "#### ユーザの特徴ベクトル\n",
    "sequel proでuser_listテーブルを見てみると、  \n",
    "素性に利用しやすそうな属性として、性別、年齢、場所があります。  \n",
    "性別と場所は連続値でないため、フラグで表現します。  \n",
    "年齢のような連続値は、場合によってはフラグとした方が良い時もありますが、  \n",
    "ここでは、連続値として扱います。  \n",
    "sequel proで年齢のカラムをソートしてみると、  \n",
    "最小値が15最大値が80なので素性を作る時はスケールを合わせるために、  \n",
    "年齢値から15引いて65で割ります。  \n",
    "このように、[0, 1]の値での表現のように最小値と最大値を整えるスケーリングをmini max scaling等と呼びます。  \n",
    "他には平均0分散1の標準正規分布に変換するstandard scalingがあります。  \n",
    "※いずれもscikit-learnのpreprocessingモジュール(http://scikit-learn.org/stable/modules/classes.html#module-sklearn.preprocessing )に実装されています。  \n"
   ]
  },
  {
   "cell_type": "code",
   "execution_count": 9,
   "metadata": {
    "collapsed": true
   },
   "outputs": [],
   "source": [
    "# ユニークな都道府県リストの取得\n",
    "dbcur.execute(''' SELECT pref_name FROM prefecture_locations ORDER BY pref_name ; ''')\n",
    "pref_data = []\n",
    "for row in dbcur.fetchall():\n",
    "    pref_data.append(row)\n",
    "\n",
    "# ユーザの素性を作成。(ユーザの素性はtraining、validation, testで共通)\n",
    "dbcur.execute('''\n",
    "    SELECT\n",
    "        t1.user_id_hash,\n",
    "        IF(t1.sex_id = 'm', 1, 0),\n",
    "        (t1.age-15)/65,\n",
    "        ''' + ', '.join([u'IF(t1.pref_name = \"' + p[0] + u'\", 1, 0)' for i, p in enumerate(pref_data)]) + '''\n",
    "    FROM user_list AS t1\n",
    "''')\n",
    "\n",
    "user_feature = {}  # ユーザの素性ベクトル\n",
    "for row in dbcur.fetchall():\n",
    "    user_feature[row[0]] = row[1:]\n"
   ]
  },
  {
   "cell_type": "markdown",
   "metadata": {},
   "source": [
    "#### クーポンの特徴ベクトル\n",
    "アイテムは、比較的用意に利用できそうなフラグのカラムが多いです。  \n",
    "ここでは、簡単のためフラグのみを、  \n",
    "学習に利用するクーポンはvalidation期間の前の7日で購買可能なデータ  \n",
    "を利用して特徴ベクトルを作っていきます。  \n",
    "※実際には、より多くのデータを使った方が精度は出る傾向にあります。"
   ]
  },
  {
   "cell_type": "code",
   "execution_count": 10,
   "metadata": {
    "collapsed": false
   },
   "outputs": [
    {
     "name": "stdout",
     "output_type": "stream",
     "text": [
      "n_item_train: 576, n_item_valid: 665\n"
     ]
    },
    {
     "name": "stderr",
     "output_type": "stream",
     "text": [
      "/usr/local/lib/python2.7/dist-packages/IPython/kernel/__main__.py:60: Warning: Truncated incorrect INTEGER value: 'NA'\n"
     ]
    }
   ],
   "source": [
    "training_start = validation_start - timedelta(days=7)  # 訓練開始日時を算出。\n",
    "\n",
    "# カテゴリリストの取得\n",
    "dbcur.execute(''' SELECT DISTINCT(capsule_text) FROM coupon_list_train ORDER BY capsule_text;''')\n",
    "capsule_data = []\n",
    "for row in dbcur.fetchall():\n",
    "    capsule_data.append(row)\n",
    "\n",
    "# ジャンルリストの取得\n",
    "dbcur.execute(''' SELECT DISTINCT(genre_name) FROM coupon_list_train ORDER BY genre_name;''')\n",
    "genre_data = []\n",
    "for row in dbcur.fetchall():\n",
    "    genre_data.append(row)\n",
    "\n",
    "# 大エリアリストの取得\n",
    "dbcur.execute(''' SELECT DISTINCT(large_area_name) FROM coupon_list_train ORDER BY large_area_name;''')\n",
    "larea_data = []\n",
    "for row in dbcur.fetchall():\n",
    "    larea_data.append(row)\n",
    "\n",
    "# 都道府県リストの取得\n",
    "dbcur.execute(''' SELECT DISTINCT(ken_name) FROM coupon_list_train ORDER BY ken_name;''')\n",
    "pref_data = []\n",
    "for row in dbcur.fetchall():\n",
    "    pref_data.append(row)\n",
    "\n",
    "# 小エリアリストの取得\n",
    "dbcur.execute(''' SELECT DISTINCT(small_area_name) FROM coupon_list_train ORDER BY small_area_name;''')\n",
    "sarea_data = []\n",
    "for row in dbcur.fetchall():\n",
    "    sarea_data.append(row)\n",
    "\n",
    "def get_item_feature(f_date, t_date):\n",
    "    #  クーポンの素性を作成する関数。\n",
    "    # @f_date：対象期間の開始日時\n",
    "    # @t_date：対象期間の終了日時\n",
    "    # テーブルが訓練用のテーブルとなっている為、training とvalidationのデータを作成する際にしか利用できない。\n",
    "    dbcur.execute('''\n",
    "        SELECT\n",
    "            coupon_id_hash,\n",
    "            ''' + ', '.join([u'IF(capsule_text = \"' + p[0] + u'\", 1, 0)' for i, p in enumerate(capsule_data)]) + ''',\n",
    "            ''' + ', '.join([u'IF(genre_name = \"' + p[0] + u'\", 1, 0)' for i, p in enumerate(genre_data)]) + ''',\n",
    "            COALESCE(CAST(usable_date_mon AS SIGNED), 0),\n",
    "            COALESCE(CAST(usable_date_tue AS SIGNED), 0),\n",
    "            COALESCE(CAST(usable_date_wed AS SIGNED), 0),\n",
    "            COALESCE(CAST(usable_date_thu AS SIGNED), 0),\n",
    "            COALESCE(CAST(usable_date_fri AS SIGNED), 0),\n",
    "            COALESCE(CAST(usable_date_sat AS SIGNED), 0),\n",
    "            COALESCE(CAST(usable_date_sun AS SIGNED), 0),\n",
    "            COALESCE(CAST(usable_date_holiday AS SIGNED), 0),\n",
    "            COALESCE(CAST(usable_date_before_holiday AS SIGNED), 0),\n",
    "            ''' + ', '.join([u'IF(large_area_name = \"' + p[0] + u'\", 1, 0)' for i, p in enumerate(larea_data)]) + ''',\n",
    "            ''' + ', '.join([u'IF(ken_name = \"' + p[0] + u'\", 1, 0)' for i, p in enumerate(pref_data)]) + ''',\n",
    "            ''' + ', '.join([u'IF(small_area_name = \"' + p[0] + u'\", 1, 0)' for i, p in enumerate(sarea_data)]) + '''\n",
    "\n",
    "        FROM coupon_list_train\n",
    "        WHERE\n",
    "            NOT (dispend <= %s OR dispfrom > %s)\n",
    "        ;\n",
    "    ''', (f_date, t_date))\n",
    "    item_feature = {} # クーポンの素性\n",
    "    for row in dbcur.fetchall():\n",
    "        item_feature[row[0]] = row[1:]\n",
    "        \n",
    "    return item_feature\n",
    "\n",
    "item_feature_train = get_item_feature(training_start, validation_start)  # training 期間のクーポンの素性\n",
    "item_feature_valid = get_item_feature(validation_start, validation_end) # validation 期間のクーポンの素性\n",
    "print 'n_item_train: %d, n_item_valid: %d' % (len(item_feature_train), len(item_feature_valid))"
   ]
  },
  {
   "cell_type": "markdown",
   "metadata": {},
   "source": [
    "#### ユーザ・クーポンの特徴ベクトルと正解ラベルの割当\n",
    "ユーザ特徴ベクトルとクーポン特徴ベウトルの関係性を評価する方法は無数にあります。  \n",
    "ベクトルを横に結合するという単純な方法や、  \n",
    "単純な結合に加えてそれぞれの掛け合わせも加えるという方法(pair-wise)、  \n",
    "などが代表的な簡単な方法です。  \n",
    "素性が長くなれば、それだけ情報量が多くなりますが、一方で過学習(Over fitting)が起きやすくなります。  \n",
    "「過学習が起きる」とは、訓練データでモデルを学習させる際に、過剰に訓練データにフィッティングして、  \n",
    "validationデータやtest dataに対する汎化性能が低いモデルが出来てしまう現象で、  \n",
    "本来、未知のデータに対する汎化・予測性能のあるモデルを構築したいため、  \n",
    "過学習を防ぐ必要があります。  \n",
    "しかし、過学習を防ぐプロセスはやや煩雑であるため、  \n",
    "ここでは意識せず、単にベクトルを横に結合するという方法ですすめます。\n",
    "\n"
   ]
  },
  {
   "cell_type": "code",
   "execution_count": 11,
   "metadata": {
    "collapsed": true
   },
   "outputs": [],
   "source": [
    "def get_purchased_coupons(f_date, t_date):\n",
    "    # 実際に購買されるクーポンの取得\n",
    "    # @f_date：対象期間の開始日時\n",
    "    # @t_date：対象期間の終了日時\n",
    "    dbcur.execute('''\n",
    "        SELECT user_id_hash, view_coupon_id_hash \n",
    "        FROM coupon_visit_train\n",
    "        WHERE i_date >= %s AND i_date < %s AND purchase_flg = 1\n",
    "        ORDER BY user_id_hash, view_coupon_id_hash\n",
    "        ;\n",
    "    ''', (f_date, t_date))\n",
    "\n",
    "    purchased_items = {}  # 各ユーザがどのクーポン群を購入するかを辞書型で返す。\n",
    "    for row in dbcur.fetchall():\n",
    "        if row[0] not in purchased_items:\n",
    "            purchased_items[row[0]] = set([])\n",
    "        purchased_items[row[0]].add(row[1])\n",
    "\n",
    "    return purchased_items\n",
    "\n",
    "user_pcoupon_train = get_purchased_coupons(training_start, validation_start)  # training 期間に各ユーザが実際に買ったクーポン\n",
    "user_pcoupon_valid = get_purchased_coupons(validation_start, validation_end)  # validation 期間に各ユーザが実際に買ったクーポン\n"
   ]
  },
  {
   "cell_type": "code",
   "execution_count": 12,
   "metadata": {
    "collapsed": false
   },
   "outputs": [
    {
     "name": "stdout",
     "output_type": "stream",
     "text": [
      "n_train_datasets: 13174848, n_validation_datasets: 15210545, n_puser: 1419\n"
     ]
    }
   ],
   "source": [
    "n_pairs_train = len(user_feature) * len(item_feature_train)  # ユーザ数×trainingクーポン数\n",
    "n_pairs_valid = len(user_feature) * len(item_feature_valid)  # ユーザ数×validation クーポン数\n",
    "print 'n_train_datasets: %d, n_validation_datasets: %d, n_puser: %d' %(n_pairs_train, n_pairs_valid, len([1 for a in user_pcoupon_train if len(a) > 0]))\n"
   ]
  },
  {
   "cell_type": "markdown",
   "metadata": {},
   "source": [
    "全部のペアを考慮すると1000万行程度となってしまいメモリに乗り切らなさそうです。  \n",
    "購買していないユーザは訓練データから外してしまいましょう。  \n",
    "また、validation dataのペアも逐次的に生成するようにした方が良さそうなので、そのように進めます。\n"
   ]
  },
  {
   "cell_type": "code",
   "execution_count": 14,
   "metadata": {
    "collapsed": false
   },
   "outputs": [
    {
     "name": "stdout",
     "output_type": "stream",
     "text": [
      "n_train_datasets: 817344\n"
     ]
    }
   ],
   "source": [
    "# 訓練データに利用するユーザをtraining期間に、実際にクーポンを購入したユーザに限定し、そのユーザIDとクーポンのIDの全組み合せを出力する。\n",
    "pairs_train = list(product([k for k in user_pcoupon_train if len(user_pcoupon_train[k]) > 0], item_feature_train.keys()))\n",
    "print 'n_train_datasets: %d' %(len(pairs_train), )\n",
    "\n",
    "features_train = []  # 学習に用いる素性\n",
    "labels_train = []  # 学習に用いるラベル\n",
    "for pair in pairs_train:  # 各ユーザ、アイテムペアについて\n",
    "    user_id, item_id = pair\n",
    "    features_train.append(user_feature[user_id] + item_feature_train[item_id])  # 単純な結合\n",
    "    if user_id in user_pcoupon_train and item_id in user_pcoupon_train[user_id]:\n",
    "        #  購買された\n",
    "        labels_train.append(1)\n",
    "    else:\n",
    "        #  購買されなかった\n",
    "        labels_train.append(0)"
   ]
  },
  {
   "cell_type": "markdown",
   "metadata": {},
   "source": [
    "### 予測モデルの構築・精度評価\n",
    "いよいよ、機械学習アルゴリズムによる予測モデルの構築です。  \n",
    "といっても、これ自体はライブラリでブラックボックス化されているため、\n",
    "ここまでくれば、非常に簡単に実装できます。\n"
   ]
  },
  {
   "cell_type": "code",
   "execution_count": 15,
   "metadata": {
    "collapsed": false
   },
   "outputs": [
    {
     "data": {
      "text/plain": [
       "LogisticRegression(C=1.0, class_weight=None, dual=False, fit_intercept=True,\n",
       "          intercept_scaling=1, max_iter=100, multi_class='ovr',\n",
       "          penalty='l2', random_state=None, solver='liblinear', tol=0.0001,\n",
       "          verbose=0)"
      ]
     },
     "execution_count": 15,
     "metadata": {},
     "output_type": "execute_result"
    }
   ],
   "source": [
    "model = LogisticRegression()  # ロジスティック回帰のモデル構築(ハイパーパラメタの調整は省略)。インスタンス化。\n",
    "model.fit(features_train, labels_train)  #  x, y~を入力して学習"
   ]
  },
  {
   "cell_type": "code",
   "execution_count": 16,
   "metadata": {
    "collapsed": false
   },
   "outputs": [
    {
     "name": "stdout",
     "output_type": "stream",
     "text": [
      "MAP@10: 0.00177\n"
     ]
    }
   ],
   "source": [
    "purchase_index = numpy.argmax(model.classes_)  # 1(=購買ラベル)がついている方のカラムインデックスを取得\n",
    "item_index_to_item_id = sorted(item_feature_valid.keys())  #  クーポンの番号をクーポンIDに変換する。\n",
    "map10 = 0.\n",
    "for user_id in user_feature:  # map@10はユーザごとにap@10を算出する。\n",
    "    if user_id not in user_pcoupon_valid:  # 購入したクーポンが亡ければ、ap@10は0なので、スコア評価時には飛ばす。\n",
    "        continue\n",
    "    feature = []\n",
    "    for item_id in item_index_to_item_id:\n",
    "        feature.append(user_feature[user_id] + item_feature_valid[item_id])  # 単純にユーザ素性とクーポン素性を結合\n",
    "    y_proba = model.predict_proba(feature)  # 各クーポンの購買確率を算出\n",
    "    y_pred_indices = numpy.argsort(y_proba[:, purchase_index])[-10:][::-1]  # 購入確率が高いクーポン上位10個のクーポン番号を取得\n",
    "    y_pred_item_ids = [item_index_to_item_id[i] for i in y_pred_indices]  # クーポン番号をクーポンIDに変換。\n",
    "    map10 += get_ap10(y_pred_item_ids, user_pcoupon_valid[user_id])  # ap@10を計算して、map@10に足す。\n",
    "    \n",
    "\n",
    "map10 /= len(user_feature)  # map@10はユーザ平均なので、全ユーザで割る。\n",
    "print 'MAP@10: %.5f' % (map10, )\n"
   ]
  },
  {
   "cell_type": "markdown",
   "metadata": {},
   "source": [
    "先ほどの、ランダム予測よりだいぶ上がったようです。  \n",
    "今回の例では、ユーザの特徴とクーポンの特徴を単純に結合しましたが、  \n",
    "モデルの入力である素性は無数の形式が存在します。  \n",
    "機械学習アルゴリズムを利用する際、この素性を如何に設計するかは非常に重要です。  \n",
    "他に予測精度をあげるポイントとして、  \n",
    "・機械学習アルゴリズムを選ぶ。  \n",
    "・機械学習アルゴリズムのハイパーパラメタを調整する。  \n",
    "・前処理をちゃんとやる。  \n",
    "・目的関数を正しく選ぶ。  \n",
    "などがあります。  \n",
    "興味がある方は、適用を検討してみてください。  \n",
    "\n",
    "\n",
    "### Excercise\n",
    "1. 同様の方法を test dataに適用、各ユーザの購買クーポンを予測し、submissionしてみてください。\n",
    "2. 学習に用いるデータ期間を7日から増やして、精度の変化を見てみてください。\n",
    "\n"
   ]
  },
  {
   "cell_type": "markdown",
   "metadata": {},
   "source": [
    "## 5. データの概観把握・予測モデルの改善\n",
    "TODO: もっと多くの実例を取り上げる。\n",
    "\n",
    "このコンペティションの最終的なゴールは、各ユーザが将来どのクーポンを購入するかを予測することです。  \n",
    "先のように、ランダムに選ぶよりは、ユーザやクーポンの特徴をモデリングした方が将来の購買するクーポンを予測しやすいことが分かりました。\n",
    "では、将来ユーザがどのクーポンを購入するかは、何と関係があるでしょうか。  \n",
    "その関係性を捉えることで、モデリングの際によりよい結果が得られることが多いです。  \n",
    "\n",
    "下記の2ステップで、購買確率の予測に寄与する指標が何かを探していきます。\n",
    "1. 重要のデータの量やラベルの種類を確認するために、集計&可視化する。\n",
    "2. 関係性についての仮説をたてる。\n",
    "3. 仮説を検証するために、データを集計&可視化する。\n",
    "\n",
    "### 重要のデータの量やラベルの種類の確認\n",
    "ログデータが少ないユーザの数の確認。  \n",
    "TODO：coldstart問題について加筆。  \n",
    "TODO：GROUP BYの説明とこの集計の仕組みの説明の加筆。"
   ]
  },
  {
   "cell_type": "code",
   "execution_count": 17,
   "metadata": {
    "collapsed": false
   },
   "outputs": [
    {
     "data": {
      "image/png": "[encoded data removed]",
      "text/plain": [
       "<matplotlib.figure.Figure at 0x7f6e9f4e5710>"
      ]
     },
     "metadata": {},
     "output_type": "display_data"
    }
   ],
   "source": [
    "dbcur.execute('''\n",
    "    SELECT\n",
    "        COUNT(*),\n",
    "        SUM(purchase_flg),\n",
    "        COUNT(DISTINCT(view_coupon_id_hash))\n",
    "    FROM\n",
    "        coupon_visit_train\n",
    "    GROUP BY user_id_hash\n",
    "    ;\n",
    "''')\n",
    "n_view = []\n",
    "n_purchase = []\n",
    "n_view_u = []\n",
    "\n",
    "for row in dbcur.fetchall():\n",
    "    n_view.append(int(row[0]))\n",
    "    n_purchase.append(int(row[1]))\n",
    "    n_view_u.append(int(row[2]))\n",
    "\n",
    "n_view = numpy.asarray(n_view)\n",
    "n_purchase = numpy.asarray(n_purchase)\n",
    "n_view_u = numpy.asarray(n_view_u)\n",
    "\n",
    "### user-coldstartがどういった状況か見る為に、最初の20件だけ見る。\n",
    "span = 20\n",
    "fig = plt.figure(figsize=(18, 8))\n",
    "ax = fig.add_subplot(2, 3, 1)\n",
    "ax.hist(n_view, bins=numpy.arange(0, span), cumulative=True)\n",
    "ax.set_title('page view count distribution')\n",
    "\n",
    "ax = fig.add_subplot(2, 3, 2)\n",
    "ax.hist(n_purchase, bins=numpy.arange(0, span), cumulative=True)\n",
    "ax.set_title('purchase count distribution')\n",
    "\n",
    "ax = fig.add_subplot(2, 3, 3)\n",
    "ax.hist(n_view_u, bins=numpy.arange(0, span), cumulative=True)\n",
    "ax.set_title('unique page view count distribution')\n",
    "\n",
    "ax = fig.add_subplot(2, 3, 4)\n",
    "ax.plot(n_view, n_purchase, 'x')\n",
    "ax.set_title('X=page view count, Y=purchase count')\n",
    "\n",
    "ax = fig.add_subplot(2, 3, 5)\n",
    "ax.plot(n_view_u, n_purchase, 'x')\n",
    "ax.set_title('X=unique page view count, Y=purchase count')\n",
    "\n",
    "ax = fig.add_subplot(2, 3, 6)\n",
    "ax.plot(n_view, n_view_u, 'x')\n",
    "ax.set_title('X=page view count, Y=unique page view count')\n",
    "\n",
    "plt.show()"
   ]
  },
  {
   "cell_type": "code",
   "execution_count": 18,
   "metadata": {
    "collapsed": false
   },
   "outputs": [
    {
     "data": {
      "image/png": "[encoded data removed]",
      "text/plain": [
       "<matplotlib.figure.Figure at 0x7f6e9f453590>"
      ]
     },
     "metadata": {},
     "output_type": "display_data"
    }
   ],
   "source": [
    "## 3Dにしても良く分からないことが多いので，辞めましょう。\n",
    "from mpl_toolkits.mplot3d import Axes3D\n",
    "fig = plt.figure(figsize=(5, 5))\n",
    "ax = fig.add_subplot(111, projection='3d')\n",
    "ax.scatter(n_view, n_view_u, n_purchase, marker='x')\n",
    "ax.set_xlabel('X Label')\n",
    "ax.set_ylabel('Y Label')\n",
    "ax.set_zlabel('Z Label')\n",
    "\n",
    "plt.show()"
   ]
  },
  {
   "cell_type": "markdown",
   "metadata": {},
   "source": [
    "最終的な精度評価に用いるテストデータに含まれる各クーポンに対して、どれくらいviewやpurchaseのデータが存在するか、の確認。  \n",
    "ほとんどのクーポンでviewデータがなく、また、全てのクーポンでpurchaseのデータが存在しないitem-cold start状態なので、  \n",
    "協調フィルタリングやその派生の手法は不向きであると考えられます。"
   ]
  },
  {
   "cell_type": "code",
   "execution_count": null,
   "metadata": {
    "collapsed": true
   },
   "outputs": [],
   "source": [
    "dbcur.execute('''\n",
    "    SELECT\n",
    "        t1.coupon_id_hash, COUNT(t2.view_coupon_id_hash), COALESCE(SUM(t2.purchase_flg), 0)\n",
    "    FROM coupon_list_test AS t1\n",
    "    LEFT JOIN coupon_visit_train AS t2 ON t1.coupon_id_hash = t2.view_coupon_id_hash\n",
    "    GROUP BY t1.coupon_id_hash\n",
    "    ORDER BY SUM(t2.purchase_flg)\n",
    "    ;\n",
    "''')\n",
    "view_count = []\n",
    "purchase_count = []\n",
    "for row in dbcur.fetchall():\n",
    "    view_count.append(int(row[1]))\n",
    "    purchase_count.append(int(row[2]))\n",
    "\n",
    "view_count = numpy.asarray(view_count)\n",
    "purchase_count = numpy.asarray(purchase_count)\n",
    "plt.figure()\n",
    "plt.plot(purchase_count, view_count, '.')\n",
    "plt.show()\n"
   ]
  },
  {
   "cell_type": "markdown",
   "metadata": {},
   "source": [
    "### 関係性についての仮説をたてる\n",
    "どういったユーザがどういったクーポンを購買するかについての仮説を立てます。  \n",
    "今回のデータセットでは、例えば、下記のような仮説が立てられます。\n",
    "1. ユーザは自分の地域と同じ地域を対象とするクーポンを購買する可能性が高い。 \n",
    "2. ユーザは女性の方が男性より割引率の高いクーポンを購買する可能性が高い。  \n",
    "3. ユーザは最後に購買したクーポンと同じジャンルのクーポンを、将来購買する可能性が高い。\n",
    "4. (過去に購買したクーポンがない)ユーザは最後に閲覧したクーポンと同じジャンルのクーポンを、将来購買する可能性が高い。  \n",
    "\n",
    "\n",
    "仮説を立てる際に意識して頂きたいことは、  \n",
    "立てた仮説がどういったユーザがどういったクーポンを購買するかを具体的に表現していて、  \n",
    "そこから、どのようにデータを集計し、検証を行うかが具体的に分かるレベルで考えるということです。  \n",
    "たとえば、  \n",
    "「ユーザは過去の行動に応じて、将来に購買するクーポンを変える可能性が高い。」  \n",
    "という仮説をたてたとしましょう。しかし、この抽象度では具体的に何をすべきか分かりません。  \n",
    "従って、正しいかもしれないが、次のアクションに繋がらないという点で、役に立たない(≒価値がない)仮説だと言えます。  \n",
    "また、別の角度から見ると、立てた仮説はグレーであればあるほど、白黒はっきりさせた(検証した)あとの有用性が大きいことが多いです。\n",
    "\n",
    "実際に、「データを分析する」際には、この「仮説を立てて、重要なところから取りかかる」ということが非常に重要です。  \n",
    "スキルは所詮スキルでしかなく、使いどころを誤るといたずらに時間を溶かす結果になりますので、是非意識してもらえればと思います。\n",
    "\n",
    "\n",
    "\n",
    "### 仮説を検証するために、データを集計&可視化する\n",
    "\n",
    "具体例として挙げた仮説を一つずつ検証いていきましょう。  \n",
    "#### 1. ユーザは自分の地域と同じ地域を対象とするクーポンを購買する可能性が高い。 \n",
    "この仮説は、時間軸とは関係のなく、いわゆる**分析**的な集計である為、ここでは訓練データ全体で集計します。"
   ]
  },
  {
   "cell_type": "code",
   "execution_count": null,
   "metadata": {
    "collapsed": true
   },
   "outputs": [],
   "source": [
    "dbcur.execute('''\n",
    "    SELECT\n",
    "        AVG(same_pref_purchase_cnt),\n",
    "        AVG(same_pref_view_cnt),\n",
    "        AVG(same_pref_purchase_cnt / same_pref_view_cnt),\n",
    "        AVG(diff_pref_purchase_cnt),\n",
    "        AVG(diff_pref_view_cnt),\n",
    "        AVG(diff_pref_purchase_cnt / diff_pref_view_cnt)\n",
    "    FROM (\n",
    "        SELECT\n",
    "            t1.user_id_hash,\n",
    "            SUM(t1.pref_name = t3.ken_name AND purchase_flg = 1) AS same_pref_purchase_cnt,\n",
    "            SUM(t1.pref_name = t3.ken_name) AS same_pref_view_cnt,\n",
    "            SUM(t1.pref_name != t3.ken_name AND purchase_flg = 1) AS diff_pref_purchase_cnt,\n",
    "            SUM(t1.pref_name != t3.ken_name) AS diff_pref_view_cnt\n",
    "        FROM user_list AS t1\n",
    "        LEFT JOIN coupon_visit_train AS t2 ON t1.user_id_hash = t2.user_id_hash\n",
    "        LEFT JOIN coupon_list_train AS t3 ON t2.view_coupon_id_hash = t3.coupon_id_hash\n",
    "        WHERE t1.pref_name != \"\"\n",
    "        GROUP BY t1.user_id_hash\n",
    "    ) AS t1\n",
    "\n",
    "    ;\n",
    "''')\n",
    "data = None\n",
    "for row in dbcur.fetchall():\n",
    "    data = row\n",
    "print 'same_purchase: %.2f, same_view: %.2f, same_rate: %.2f, diff_purchase: %.2f, diff_view: %.2f, diff_rate: %.2f' % (data)"
   ]
  },
  {
   "cell_type": "markdown",
   "metadata": {},
   "source": [
    "まず、同じ地域からの購買よりも，異なる地域からの購買の方が多いことが分かります。  \n",
    "また、same_rateとdiff_rateを比べると、同じ地域での閲覧に於ける購買の割合より、異なる地域での閲覧に於ける購買の割合の方がやや大きいことが分かります。  \n",
    "そもそも、異なる地域での閲覧が多いということ自体が先の仮定で意識したものとは異なっていた、ということもありますが、\n",
    "検証したかった仮説はどうやら、正しくなさそうです。\n",
    "\n",
    "#### 2. ユーザは女性の方が男性より割引率の高いクーポンを購買する可能性が高い。\n",
    "この仮説も、時間軸とは関係のなく、いわゆる**分析**的な集計である為、ここでは訓練データ全体で集計します。"
   ]
  },
  {
   "cell_type": "code",
   "execution_count": null,
   "metadata": {
    "collapsed": true
   },
   "outputs": [],
   "source": [
    "dbcur.execute('''\n",
    "    SELECT\n",
    "        t1.sex_id,\n",
    "        AVG(t1.discount_rate_view),\n",
    "        AVG(t1.discount_rate_purchase)\n",
    "    FROM (\n",
    "        SELECT\n",
    "            t1.user_id_hash,\n",
    "            t1.sex_id,\n",
    "            AVG(100 - t3.price_rate) AS discount_rate_view,\n",
    "            COALESCE(SUM(IF(t2.purchase_flg, 100 - t3.price_rate, 0)) / SUM(t2.purchase_flg), 0) AS discount_rate_purchase\n",
    "            \n",
    "        FROM user_list AS t1\n",
    "        LEFT JOIN coupon_visit_train AS t2 ON t1.user_id_hash = t2.user_id_hash\n",
    "        LEFT JOIN coupon_list_train AS t3 ON t2.view_coupon_id_hash = t3.coupon_id_hash\n",
    "        GROUP BY t1.user_id_hash\n",
    "    ) AS t1\n",
    "    GROUP BY t1.sex_id\n",
    "    ;\n",
    "''')\n",
    "data = []\n",
    "for row in dbcur.fetchall():\n",
    "    row = list(row)\n",
    "    row[1] = float(row[1])\n",
    "    row[2] = float(row[2])\n",
    "    data.append(tuple(row))\n",
    "for row in data:\n",
    "    print 'sex_id: %s, discount_rate_view: %.2f, discount_rate_purchase: %.2f' % (row)"
   ]
  },
  {
   "cell_type": "markdown",
   "metadata": {},
   "source": [
    "あまり、変わらないですね、、、\n",
    "\n",
    "#### 3. ユーザは最後に購買したクーポンと同じジャンルのクーポンを、将来購買する可能性が高い。\n",
    "この仮説は、時間軸と関係しており、いわゆる**予測**的な集計である為、ここではtraining dataとvalidationデータに分けたものを集計します。  \n",
    "TODO：何の為に集計したの？"
   ]
  },
  {
   "cell_type": "code",
   "execution_count": 20,
   "metadata": {
    "collapsed": false
   },
   "outputs": [
    {
     "data": {
      "image/png": "[encoded data removed]",
      "text/plain": [
       "<matplotlib.figure.Figure at 0x7f6e8f217490>"
      ]
     },
     "metadata": {},
     "output_type": "display_data"
    }
   ],
   "source": [
    "dbcur.execute('''\n",
    "    SELECT\n",
    "        SUM(purchase_flg)\n",
    "    FROM coupon_visit_train_validation\n",
    "    WHERE purchase_flg = 1\n",
    "    GROUP BY user_id_hash\n",
    "    ;\n",
    "''')\n",
    "x = []\n",
    "for row in dbcur.fetchall():\n",
    "    x.append(int(row[0]))\n",
    "plt.figure()\n",
    "plt.hist(x, bins=numpy.arange(1, 15))\n",
    "plt.show()"
   ]
  },
  {
   "cell_type": "code",
   "execution_count": 21,
   "metadata": {
    "collapsed": false
   },
   "outputs": [
    {
     "name": "stdout",
     "output_type": "stream",
     "text": [
      "same_purchase: 0.64, same_view: 4.24, same_rate: 0.22, diff_purchase: 0.98, diff_view: 7.09, diff_rate: 0.23\n"
     ]
    }
   ],
   "source": [
    "dbcur.execute('''\n",
    "    SELECT\n",
    "        AVG(t1.same_purchase),\n",
    "        AVG(t1.same_view),\n",
    "        AVG(t1.same_purchase / t1.same_view) AS same_rate,\n",
    "        AVG(t1.diff_purchase),\n",
    "        AVG(t1.diff_view),\n",
    "        AVG(t1.diff_purchase / t1.diff_view) AS diff_rate\n",
    "    FROM (\n",
    "        SELECT\n",
    "            t1.user_id_hash,\n",
    "            SUM(t1.genre_name = t3.genre_name AND t2.purchase_flg = 1) AS same_purchase,\n",
    "            SUM(t1.genre_name = t3.genre_name) AS same_view,\n",
    "            SUM(t1.genre_name != t3.genre_name AND t2.purchase_flg = 1) AS diff_purchase,\n",
    "            SUM(t1.genre_name != t3.genre_name) AS diff_view\n",
    "        FROM (\n",
    "            SELECT\n",
    "                t1.user_id_hash, t1.view_coupon_id_hash, t3.genre_name\n",
    "            FROM coupon_visit_train_training AS t1\n",
    "            LEFT JOIN coupon_visit_train_training AS t2 ON t1.user_id_hash = t2.user_id_hash AND t1.i_date < t2.i_date\n",
    "            LEFT JOIN coupon_list_train AS t3 ON t1.view_coupon_id_hash = t3.coupon_id_hash\n",
    "            WHERE t1.purchase_flg = 1 AND t2.user_id_hash IS NULL\n",
    "            GROUP BY t1.user_id_hash\n",
    "        ) AS t1\n",
    "        LEFT JOIN coupon_visit_train_validation AS t2 ON t1.user_id_hash = t2.user_id_hash\n",
    "        LEFT JOIN coupon_list_train AS t3 ON t2.view_coupon_id_hash = t3.coupon_id_hash\n",
    "        LEFT JOIN (\n",
    "            SELECT user_id_hash\n",
    "            FROM coupon_visit_train_validation\n",
    "            WHERE purchase_flg = 1\n",
    "            GROUP BY user_id_hash\n",
    "        ) AS t4 ON t1.user_id_hash = t4.user_id_hash\n",
    "        WHERE t4.user_id_hash IS NOT NULL\n",
    "        GROUP BY t1.user_id_hash\n",
    "    ) AS t1\n",
    "    ;\n",
    "''')\n",
    "\n",
    "data = None\n",
    "for row in dbcur.fetchall():\n",
    "    data = row\n",
    "print 'same_purchase: %.2f, same_view: %.2f, same_rate: %.2f, diff_purchase: %.2f, diff_view: %.2f, diff_rate: %.2f' % (data)"
   ]
  },
  {
   "cell_type": "markdown",
   "metadata": {},
   "source": [
    "same\\_purchase ÷ same\\_view = 0.14  \n",
    "diff\\_purchase ÷ diff\\_view = 0.12  \n",
    "ですが、same\\_rate < diff\\_rateです。  \n",
    "「ユーザは最後に購買したクーポンと同じジャンルのクーポンを、将来購買する可能性が高い。」\n",
    "という仮説は必ずしも正しくはないですが，  \n",
    "上記の結果を踏まえると一部のよく購買するユーザについては、仮説が成立している可能性があります。  \n",
    "TODO：なんで、逆転するかの説明。\n",
    "\n",
    "### Excercise\n",
    "どうやら、私の立てた仮説はあまり良くなさそうですね。(^^ ;  \n",
    "\n",
    "1. 「過去に購買したクーポンがないユーザは最後に閲覧したクーポンと同じジャンルのクーポンを、将来購買する可能性が高い。」を検証してください。\n",
    "2. 何かしら仮説を立てて、検証してみてください。    \n",
    "3. また、仮説検証を通して将来の購買と関連の高い指標(≒feature, 表現)があったら、教えてください。\n",
    "\n",
    "\n",
    "\n",
    "\n",
    "\n"
   ]
  },
  {
   "cell_type": "markdown",
   "metadata": {},
   "source": [
    "## Links\n",
    "- [matplotlib入門](http://bicycle1885.hatenablog.com/entry/2014/02/14/023734)\n",
    "- [scikit-learn: class and function reference](http://scikit-learn.org/stable/modules/classes.html)\n",
    "- [computational Statistics in Python](http://people.duke.edu/~ccc14/sta-663/index.html)\n",
    "- [Deep Learning Tutorials](http://deeplearning.net/tutorial/)\n",
    "\n",
    "## 謝辞\n",
    "フィードバックをくれた方ありがとうございます！  \n",
    "Kaggleやリクルートの方ありがとうございます！"
   ]
  },
  {
   "cell_type": "code",
   "execution_count": null,
   "metadata": {
    "collapsed": true
   },
   "outputs": [],
   "source": []
  }
 ],
 "metadata": {
  "kernelspec": {
   "display_name": "Python 2",
   "language": "python",
   "name": "python2"
  },
  "language_info": {
   "codemirror_mode": {
    "name": "ipython",
    "version": 2
   },
   "file_extension": ".py",
   "mimetype": "text/x-python",
   "name": "python",
   "nbconvert_exporter": "python",
   "pygments_lexer": "ipython2",
   "version": "2.7.6"
  }
 },
 "nbformat": 4,
 "nbformat_minor": 0
}
