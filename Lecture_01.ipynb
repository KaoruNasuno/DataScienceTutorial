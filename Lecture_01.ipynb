{
 "cells": [
  {
   "cell_type": "markdown",
   "metadata": {},
   "source": [
    "# Data Science Tutorial 01 @ Data Science Society\n",
    "那須野薫(Kaoru Nasuno)/ 東京大学(The University of Tokyo)\n",
    "\n",
    "データサイエンスの基礎的なスキルを身につける為のチュートリアルです。  \n",
    "KaggleのコンペティションであるRECRUIT Challenge, Coupon Purchase Predictionのデータセットを題材として、  \n",
    "データサイエンスの基礎的なスキルに触れ，理解の土台を養うことを目的とします。  \n",
    "(高い予測精度を出すことが目的ではないです)  \n",
    "まだ、書きかけでして、要望に合わせて誤りの修正や加筆をしていく予定です。何かお気づきの点があればご連絡頂けますと幸いです。\n",
    "\n",
    "## 対象データ\n",
    "RECRUIT Challenge, Coupon Purchase Predictionのデータセット。  \n",
    "ユーザ登録や利用規約に同意してダウンロードしてください。  \n",
    "https://www.kaggle.com/c/coupon-purchase-prediction/data\n",
    "\n",
    "## 進め方\n",
    "まずは、全てのコードをコピー&ペーストして、エラーなく動作することを確認しましょう。  \n",
    "この段階でエラーが出る場合には環境が整っていないか、パラメタの設定ができていない等、  \n",
    "プログラムの理解とはあまり関係のない箇所が原因である可能性が高いです。  \n",
    "動作確認が終わったら、ひとつずつ書き写してみて、それぞれどのように動作するかを理解していくという方法をお勧めします。\n",
    "\n",
    "## 目次\n",
    "1. <span style=\"color: #FF0000;\">下準備</span>\n",
    "2. <span style=\"color: #FF0000;\">データベースへのデータの展開</span>\n",
    "3. モデリング対象の明確化\n",
    "4. 機械学習による予測モデルの構築・精度検証\n",
    "5. データの概観把握・予測モデルの改善  \n",
    "\n",
    "\n",
    "1, 2 について進めていきます。  3. 以降については、Lecture 02以降を参照ください。  \n",
    "\n",
    "## dependencies\n",
    "#### macユーザ：\n",
    "```bash\n",
    "brew update;\n",
    "pip install ipython;\n",
    "pip install ipython[notebook];\n",
    "brew install mariadb;\n",
    "pip install MySQL-python;\n",
    "pip install scikit-learn;\n",
    "```\n",
    "mysqlが起動していない場合は、下記のコマンドでmysqlのプロセスを立ち上げましょう。\n",
    "```bash\n",
    "mysqld_safe;\n",
    "```\n",
    "MySQLクライアンの一つであるSequel Pro( http://www.sequelpro.com/ )もinstall してください。\n",
    "\n"
   ]
  },
  {
   "cell_type": "markdown",
   "metadata": {},
   "source": [
    "\n",
    "## 1. 下準備\n",
    "\n",
    "### データベースの作成  \n",
    "このチュートリアルではMySQL(MariaDB)というリレーショナルデータベースを利用します。  \n",
    "ここでは、利用するデータベース名をcoupon_purchaseとし、データベースを作成していない人は下記のコマンドをターミナルで実行してください。\n",
    "```bash\n",
    "echo 'CREATE DATABASE coupon_purchase; ' |mysql -uroot\n",
    "```\n",
    "rootユーザのパスワードを設定している方は  \n",
    "```bash\n",
    "echo 'CREATE DATABASE coupon_purchase; ' |mysql -uroot -pyourpassword\n",
    "```\n",
    "としてください。  \n",
    "ローカル環境下で実行している場合には、sequel proで下記のような設定で  \n",
    "でデータベースにアクセスできるようになっているはずです。  \n",
    "(MySQLのパスワードを設定していない場合には、パスワード欄は空白)\n",
    "\n",
    "<img src=\"files/sequel_pro.png\" width=\"400px;\"/>\n",
    "\n",
    "\n",
    "\n",
    "以下は、ipython notebook上で実行してください。  \n",
    "ipython notebook は下記のコマンドをターミナルで実行することで起動できます。\n",
    "```bash\n",
    "ipython notebook;\n",
    "```\n",
    "起動すると、ブラウザ上でipython notebookが起動します。  \n",
    "New >> python2(or New Notebook)をクリックすることで、新しいpythonのノートブックを作成できます。  \n",
    "\n",
    "### パラメタの設定  \n",
    "MySQLのユーザ名やパスワードなどのパラメタを指定してください。  \n",
    "多くの場合は```user```や```passwd```を変更すれば動くと思います。  \n",
    "また、ダウンロードし、解凍した9つのcsvファイルが置いてあるディレクトリのパスを設定してください。  \n",
    "(coupon_area_test.csv, coupon_list_test.csv, prefecture_locations.csv, coupon_area_train.csv, coupon_list_train.csv, sample_submission.csv, coupon_detail_train.csv, coupon_visit_train.csv  user_list.csv)"
   ]
  },
  {
   "cell_type": "code",
   "execution_count": 1,
   "metadata": {
    "collapsed": false
   },
   "outputs": [],
   "source": [
    "# TODO: You Must Change the setting bellow\n",
    "MYSQL = {\n",
    "    'user': 'root',\n",
    "    'passwd': '',\n",
    "    'db': 'coupon_purchase',\n",
    "    'host': '127.0.0.1',\n",
    "    'port': 3306,\n",
    "    'local_infile': True,\n",
    "    'charset': 'utf8',\n",
    "}\n",
    "DATA_DIR = '/home/nasuno/recruit_kaggle_datasets'  #  ディレクトリの名前に日本語(マルチバイト文字)は使わないでください。\n",
    "OUTPUTS_DIR = '/home/nasuno/recruit_kaggle/outputs'  # 予測結果などを保存するディレクトリ。"
   ]
  },
  {
   "cell_type": "markdown",
   "metadata": {},
   "source": [
    "### モジュールのimportや変数の初期化  \n",
    "次に、このチュートリアルで利用するモジュールのimportや一部の変数の初期化を行います。\n",
    "```python\n",
    "%matplotlib inline\n",
    "```\n",
    "は ipython notebookに特有のマジックコマンドというものです。  \n",
    "pythonの文法と異なりますが、matplotlibという画像を描画するライブラリの出力結果がブラウザ上に表示されるように設定するものです。  \n",
    "(ここでは、おまじない程度に考えてください。)"
   ]
  },
  {
   "cell_type": "code",
   "execution_count": 2,
   "metadata": {
    "collapsed": false
   },
   "outputs": [],
   "source": [
    "%matplotlib inline\n",
    "import matplotlib.pyplot as plt\n",
    "import MySQLdb\n",
    "import numpy\n",
    "\n",
    "from sklearn.utils import shuffle\n",
    "from sklearn.cross_validation import train_test_split\n",
    "from sklearn.metrics import f1_score, accuracy_score\n",
    "from sklearn.linear_model import LogisticRegression\n",
    "from datetime import datetime, timedelta\n",
    "from itertools import product\n",
    "\n",
    "# Random Seed\n",
    "rng = numpy.random.RandomState(1234)\n",
    "\n",
    "dbcon = MySQLdb.connect(**MYSQL)\n",
    "dbcur = dbcon.cursor()\n"
   ]
  },
  {
   "cell_type": "markdown",
   "metadata": {},
   "source": [
    "## 2. データベースへのデータの格納\n",
    "\n",
    "### データベースとは  \n",
    "データベースとは、色々なデータの目的ベースでの管理や、効率的なデータ参照／検索を可能にするものです。  \n",
    "データベースの中には複数のテーブルがあります。   \n",
    "テーブルはちょうどスプレッドシートのようになっていて、それぞれの列に名前があり、1行が1つのデータとなるイメージです。\n",
    "\n",
    "\n",
    "### データの格納\n",
    "データの格納の流れは大まかに、\n",
    "1. テーブルの作成\n",
    "2. テーブルへのインサート\n",
    "3. errorやwarningの確認  \n",
    "\n",
    "の3つのステップとなります。  \n",
    "\n",
    "kaggleのページにテーブルの定義が書いてあるので、ここでは、その通りに作成します。  \n",
    "まずは、user_listのテーブル作成クエリと実行です。  \n",
    "MySQLのCREATE TABLE構文については、http://dev.mysql.com/doc/refman/5.6/ja/create-table.html を参照ください。"
   ]
  },
  {
   "cell_type": "code",
   "execution_count": 3,
   "metadata": {
    "collapsed": false
   },
   "outputs": [
    {
     "data": {
      "text/plain": [
       "0L"
      ]
     },
     "execution_count": 3,
     "metadata": {},
     "output_type": "execute_result"
    }
   ],
   "source": [
    "dbcur.execute('''DROP TABLE IF EXISTS user_list;''')  # チュートリアルの便宜上、一度削除します。\n",
    "query = '''\n",
    "CREATE TABLE IF NOT EXISTS user_list (\n",
    "    reg_date DATETIME,\n",
    "    sex_id VARCHAR(1),\n",
    "    age INT,\n",
    "    withdraw_date DATETIME,\n",
    "    pref_name VARCHAR(15),\n",
    "    user_id_hash VARCHAR(32),\n",
    "    PRIMARY KEY(user_id_hash),\n",
    "    INDEX(reg_date),\n",
    "    INDEX(sex_id),\n",
    "    INDEX(age),\n",
    "    INDEX(withdraw_date),\n",
    "    INDEX(pref_name)\n",
    ") ENGINE=MyISAM DEFAULT CHARSET=utf8;\n",
    "'''\n",
    "dbcur.execute(query)"
   ]
  },
  {
   "cell_type": "markdown",
   "metadata": {},
   "source": [
    "次に、データのインサートです。  \n",
    "csvファイルなど、dumpされたファイルからMySQLにインサートする場合にはLOAD DATA INFILE構文を利用します。  \n",
    "LOAD DATA INFILE構文については、 http://dev.mysql.com/doc/refman/5.6/ja/load-data.html を参照ください。"
   ]
  },
  {
   "cell_type": "code",
   "execution_count": 4,
   "metadata": {
    "collapsed": false
   },
   "outputs": [
    {
     "data": {
      "text/plain": [
       "22873L"
      ]
     },
     "execution_count": 4,
     "metadata": {},
     "output_type": "execute_result"
    }
   ],
   "source": [
    "csv_path = DATA_DIR + '/user_list.csv'\n",
    "query = '''\n",
    "LOAD DATA LOCAL INFILE \"''' + csv_path + '''\"\n",
    "INTO TABLE user_list\n",
    "CHARACTER SET utf8\n",
    "FIELDS TERMINATED BY ','\n",
    "IGNORE 1 LINES\n",
    "(reg_date, sex_id, age,@withdraw_date, pref_name, user_id_hash)\n",
    "SET\n",
    "    withdraw_date = IF(CHAR_LENGTH(@withdraw_date) != 19 , '9999-12-31 23:59:59', STR_TO_DATE(@withdraw_date, \"%Y-%m-%d %H:%i:%s\"))\n",
    ";\n",
    "'''\n",
    "dbcur.execute(query)"
   ]
  },
  {
   "cell_type": "markdown",
   "metadata": {},
   "source": [
    "テーブルの作成に利用したCREATE TABLE文には、  \n",
    "テーブルの型の定義ではなく、インデックスと呼ばれるものの定義も含まれています。  \n",
    "インデックスとはデータの検索を高速化するものです。  \n",
    "#### PRIMARY KEY\n",
    "テーブル内でuniqueで、かつ、検索するカラムに付与する。\n",
    "例えば、user_listテーブルのuser_id_hashは当該テーブルで、ユニークであり，かつ、ユーザの検索によく用いるため、PRIMARY KEYを付与しておいた方が良い。\n",
    "#### INDEX\n",
    "テーブル内でuniqueではないが、検索するカラムに付与する。例えば、ユーザを性別や年齢に応じて検索・集計して、割合を見たい場合には、sex_idやageなどのカラムに付与しておいた方が良い。\n",
    "##### TODO\n",
    "MYSQL関数などの説明の加筆。\n",
    "\n",
    "## Exercise\n",
    "下記の他のファイルについても同様にテーブルを作成し、データをインサートしてください。\n",
    "- prefecture_locations.csv\n",
    "- coupon_area_train.csv, coupon_area_test.csv\n",
    "- coupon_detail_train.csv\n",
    "- coupon_visit_train.csv\n",
    "- coupon_list_train.csv, coupon_list_test.csv\n",
    "\n",
    "\n",
    "\n",
    "### 実装例\n",
    "- prefecture_locations.csv"
   ]
  },
  {
   "cell_type": "code",
   "execution_count": 5,
   "metadata": {
    "collapsed": false
   },
   "outputs": [
    {
     "name": "stderr",
     "output_type": "stream",
     "text": [
      "/usr/local/lib/python2.7/dist-packages/IPython/kernel/__main__.py:23: Warning: Data truncated for column 'longitude' at row 1\n",
      "/usr/local/lib/python2.7/dist-packages/IPython/kernel/__main__.py:23: Warning: Data truncated for column 'longitude' at row 2\n",
      "/usr/local/lib/python2.7/dist-packages/IPython/kernel/__main__.py:23: Warning: Data truncated for column 'longitude' at row 3\n",
      "/usr/local/lib/python2.7/dist-packages/IPython/kernel/__main__.py:23: Warning: Data truncated for column 'longitude' at row 4\n",
      "/usr/local/lib/python2.7/dist-packages/IPython/kernel/__main__.py:23: Warning: Data truncated for column 'longitude' at row 5\n",
      "/usr/local/lib/python2.7/dist-packages/IPython/kernel/__main__.py:23: Warning: Data truncated for column 'longitude' at row 6\n",
      "/usr/local/lib/python2.7/dist-packages/IPython/kernel/__main__.py:23: Warning: Data truncated for column 'longitude' at row 7\n",
      "/usr/local/lib/python2.7/dist-packages/IPython/kernel/__main__.py:23: Warning: Data truncated for column 'longitude' at row 8\n",
      "/usr/local/lib/python2.7/dist-packages/IPython/kernel/__main__.py:23: Warning: Data truncated for column 'longitude' at row 9\n",
      "/usr/local/lib/python2.7/dist-packages/IPython/kernel/__main__.py:23: Warning: Data truncated for column 'longitude' at row 10\n",
      "/usr/local/lib/python2.7/dist-packages/IPython/kernel/__main__.py:23: Warning: Data truncated for column 'longitude' at row 11\n",
      "/usr/local/lib/python2.7/dist-packages/IPython/kernel/__main__.py:23: Warning: Data truncated for column 'longitude' at row 12\n",
      "/usr/local/lib/python2.7/dist-packages/IPython/kernel/__main__.py:23: Warning: Data truncated for column 'longitude' at row 13\n",
      "/usr/local/lib/python2.7/dist-packages/IPython/kernel/__main__.py:23: Warning: Data truncated for column 'longitude' at row 14\n",
      "/usr/local/lib/python2.7/dist-packages/IPython/kernel/__main__.py:23: Warning: Data truncated for column 'longitude' at row 15\n",
      "/usr/local/lib/python2.7/dist-packages/IPython/kernel/__main__.py:23: Warning: Data truncated for column 'longitude' at row 16\n",
      "/usr/local/lib/python2.7/dist-packages/IPython/kernel/__main__.py:23: Warning: Data truncated for column 'longitude' at row 17\n",
      "/usr/local/lib/python2.7/dist-packages/IPython/kernel/__main__.py:23: Warning: Data truncated for column 'longitude' at row 18\n",
      "/usr/local/lib/python2.7/dist-packages/IPython/kernel/__main__.py:23: Warning: Data truncated for column 'longitude' at row 19\n",
      "/usr/local/lib/python2.7/dist-packages/IPython/kernel/__main__.py:23: Warning: Data truncated for column 'longitude' at row 20\n",
      "/usr/local/lib/python2.7/dist-packages/IPython/kernel/__main__.py:23: Warning: Data truncated for column 'longitude' at row 21\n",
      "/usr/local/lib/python2.7/dist-packages/IPython/kernel/__main__.py:23: Warning: Data truncated for column 'longitude' at row 22\n",
      "/usr/local/lib/python2.7/dist-packages/IPython/kernel/__main__.py:23: Warning: Data truncated for column 'longitude' at row 23\n",
      "/usr/local/lib/python2.7/dist-packages/IPython/kernel/__main__.py:23: Warning: Data truncated for column 'longitude' at row 24\n",
      "/usr/local/lib/python2.7/dist-packages/IPython/kernel/__main__.py:23: Warning: Data truncated for column 'longitude' at row 25\n",
      "/usr/local/lib/python2.7/dist-packages/IPython/kernel/__main__.py:23: Warning: Data truncated for column 'longitude' at row 26\n",
      "/usr/local/lib/python2.7/dist-packages/IPython/kernel/__main__.py:23: Warning: Data truncated for column 'longitude' at row 27\n",
      "/usr/local/lib/python2.7/dist-packages/IPython/kernel/__main__.py:23: Warning: Data truncated for column 'longitude' at row 28\n",
      "/usr/local/lib/python2.7/dist-packages/IPython/kernel/__main__.py:23: Warning: Data truncated for column 'longitude' at row 29\n",
      "/usr/local/lib/python2.7/dist-packages/IPython/kernel/__main__.py:23: Warning: Data truncated for column 'longitude' at row 30\n",
      "/usr/local/lib/python2.7/dist-packages/IPython/kernel/__main__.py:23: Warning: Data truncated for column 'longitude' at row 31\n",
      "/usr/local/lib/python2.7/dist-packages/IPython/kernel/__main__.py:23: Warning: Data truncated for column 'longitude' at row 32\n",
      "/usr/local/lib/python2.7/dist-packages/IPython/kernel/__main__.py:23: Warning: Data truncated for column 'longitude' at row 33\n",
      "/usr/local/lib/python2.7/dist-packages/IPython/kernel/__main__.py:23: Warning: Data truncated for column 'longitude' at row 34\n",
      "/usr/local/lib/python2.7/dist-packages/IPython/kernel/__main__.py:23: Warning: Data truncated for column 'longitude' at row 35\n",
      "/usr/local/lib/python2.7/dist-packages/IPython/kernel/__main__.py:23: Warning: Data truncated for column 'longitude' at row 36\n",
      "/usr/local/lib/python2.7/dist-packages/IPython/kernel/__main__.py:23: Warning: Data truncated for column 'longitude' at row 37\n",
      "/usr/local/lib/python2.7/dist-packages/IPython/kernel/__main__.py:23: Warning: Data truncated for column 'longitude' at row 38\n",
      "/usr/local/lib/python2.7/dist-packages/IPython/kernel/__main__.py:23: Warning: Data truncated for column 'longitude' at row 39\n",
      "/usr/local/lib/python2.7/dist-packages/IPython/kernel/__main__.py:23: Warning: Data truncated for column 'longitude' at row 40\n",
      "/usr/local/lib/python2.7/dist-packages/IPython/kernel/__main__.py:23: Warning: Data truncated for column 'longitude' at row 41\n",
      "/usr/local/lib/python2.7/dist-packages/IPython/kernel/__main__.py:23: Warning: Data truncated for column 'longitude' at row 42\n",
      "/usr/local/lib/python2.7/dist-packages/IPython/kernel/__main__.py:23: Warning: Data truncated for column 'longitude' at row 43\n",
      "/usr/local/lib/python2.7/dist-packages/IPython/kernel/__main__.py:23: Warning: Data truncated for column 'longitude' at row 44\n",
      "/usr/local/lib/python2.7/dist-packages/IPython/kernel/__main__.py:23: Warning: Data truncated for column 'longitude' at row 45\n",
      "/usr/local/lib/python2.7/dist-packages/IPython/kernel/__main__.py:23: Warning: Data truncated for column 'longitude' at row 46\n",
      "/usr/local/lib/python2.7/dist-packages/IPython/kernel/__main__.py:23: Warning: Data truncated for column 'longitude' at row 47\n"
     ]
    },
    {
     "data": {
      "text/plain": [
       "47L"
      ]
     },
     "execution_count": 5,
     "metadata": {},
     "output_type": "execute_result"
    }
   ],
   "source": [
    "### prefecture_locations\n",
    "csv_path = DATA_DIR + '/prefecture_locations.csv' \n",
    "dbcur.execute('''DROP TABLE IF EXISTS prefecture_locations;''')\n",
    "dbcur.execute('''\n",
    "CREATE TABLE IF NOT EXISTS prefecture_locations (\n",
    "    pref_name VARCHAR(15),\n",
    "    PRIMARY KEY(pref_name),\n",
    "    prefectual_office VARCHAR(15),\n",
    "    latitude DOUBLE,\n",
    "    longitude DOUBLE\n",
    ") ENGINE=MyISAM DEFAULT CHARSET=utf8\n",
    ";\n",
    "''')\n",
    "\n",
    "dbcur.execute('''\n",
    "LOAD DATA LOCAL INFILE \"''' + csv_path + '''\"\n",
    "INTO TABLE prefecture_locations\n",
    "CHARACTER SET utf8\n",
    "FIELDS TERMINATED BY ','\n",
    "IGNORE 1 LINES\n",
    "(pref_name, prefectual_office, latitude, longitude)\n",
    ";\n",
    "''')"
   ]
  },
  {
   "cell_type": "markdown",
   "metadata": {},
   "source": [
    "実行すると、それぞれのレコードでWarningが発生しますが、  \n",
    "データベースに展開されたレコードのlongitudeを確認すると正しく展開されているため、ここではWarningは無視します。  \n",
    "(確認しておりませんが、行末の改行コードがWarningの原因かもしれません、、、)\n",
    "- coupon_area_train.csv, coupon_area_test.csv"
   ]
  },
  {
   "cell_type": "code",
   "execution_count": 6,
   "metadata": {
    "collapsed": false
   },
   "outputs": [
    {
     "data": {
      "text/plain": [
       "138185L"
      ]
     },
     "execution_count": 6,
     "metadata": {},
     "output_type": "execute_result"
    }
   ],
   "source": [
    "### coupon_area_train\n",
    "csv_path = DATA_DIR + '/coupon_area_train.csv' \n",
    "dbcur.execute('''DROP TABLE IF EXISTS coupon_area_train;''')\n",
    "dbcur.execute('''\n",
    "CREATE TABLE IF NOT EXISTS coupon_area_train (\n",
    "    small_area_name  VARCHAR(32),\n",
    "    pref_name VARCHAR(15),    \n",
    "    coupon_id_hash VARCHAR(32),\n",
    "    INDEX(coupon_id_hash),\n",
    "     INDEX(pref_name)\n",
    ") ENGINE=MyISAM DEFAULT CHARSET=utf8\n",
    ";\n",
    "''')\n",
    "\n",
    "dbcur.execute('''\n",
    "LOAD DATA LOCAL INFILE \"''' + csv_path + '''\"\n",
    "INTO TABLE coupon_area_train\n",
    "CHARACTER SET utf8\n",
    "FIELDS TERMINATED BY ','\n",
    "IGNORE 1 LINES\n",
    "(small_area_name,pref_name,coupon_id_hash)\n",
    ";\n",
    "''')"
   ]
  },
  {
   "cell_type": "code",
   "execution_count": 7,
   "metadata": {
    "collapsed": false
   },
   "outputs": [
    {
     "data": {
      "text/plain": [
       "2165L"
      ]
     },
     "execution_count": 7,
     "metadata": {},
     "output_type": "execute_result"
    }
   ],
   "source": [
    "### coupon_area_test\n",
    "csv_path = DATA_DIR + '/coupon_area_test.csv' \n",
    "dbcur.execute('''DROP TABLE IF EXISTS coupon_area_test;''')\n",
    "dbcur.execute('''\n",
    "CREATE TABLE IF NOT EXISTS coupon_area_test (\n",
    "    small_area_name  VARCHAR(32),\n",
    "    pref_name VARCHAR(15),    \n",
    "    coupon_id_hash VARCHAR(32),\n",
    "    INDEX(coupon_id_hash),\n",
    "    INDEX(pref_name)\n",
    ") ENGINE=MyISAM DEFAULT CHARSET=utf8\n",
    ";\n",
    "''')\n",
    "\n",
    "dbcur.execute('''\n",
    "LOAD DATA LOCAL INFILE \"''' + csv_path + '''\"\n",
    "INTO TABLE coupon_area_test\n",
    "CHARACTER SET utf8\n",
    "FIELDS TERMINATED BY ','\n",
    "IGNORE 1 LINES\n",
    "(small_area_name,pref_name,coupon_id_hash)\n",
    ";\n",
    "''')"
   ]
  },
  {
   "cell_type": "markdown",
   "metadata": {},
   "source": [
    "- coupon_detail_train.csv"
   ]
  },
  {
   "cell_type": "code",
   "execution_count": 8,
   "metadata": {
    "collapsed": false
   },
   "outputs": [
    {
     "data": {
      "text/plain": [
       "168996L"
      ]
     },
     "execution_count": 8,
     "metadata": {},
     "output_type": "execute_result"
    }
   ],
   "source": [
    "### coupon_detail_train\n",
    "csv_path = DATA_DIR + '/coupon_detail_train.csv' \n",
    "dbcur.execute('''DROP TABLE IF EXISTS coupon_detail_train;''')\n",
    "dbcur.execute('''\n",
    "CREATE TABLE IF NOT EXISTS coupon_detail_train (\n",
    "    item_count INT,\n",
    "    i_date DATETIME,\n",
    "    small_area_name VARCHAR(32),\n",
    "    purchaseid_hash VARCHAR(32),\n",
    "    user_id_hash VARCHAR(32),\n",
    "    coupon_id_hash VARCHAR(32),\n",
    "    INDEX(coupon_id_hash)\n",
    ") ENGINE=MyISAM DEFAULT CHARSET=utf8\n",
    ";\n",
    "''')\n",
    "\n",
    "dbcur.execute('''\n",
    "LOAD DATA LOCAL INFILE \"''' + csv_path + '''\"\n",
    "INTO TABLE coupon_detail_train\n",
    "CHARACTER SET utf8\n",
    "FIELDS TERMINATED BY ','\n",
    "IGNORE 1 LINES\n",
    "(item_count, i_date, small_area_name, purchaseid_hash, user_id_hash, coupon_id_hash)\n",
    ";\n",
    "''')"
   ]
  },
  {
   "cell_type": "markdown",
   "metadata": {},
   "source": [
    "- coupon_visit_train.csv  \n",
    "このファイルはレコード数が一番多く、インサートが完了するまで少し時間がかかります。"
   ]
  },
  {
   "cell_type": "code",
   "execution_count": 9,
   "metadata": {
    "collapsed": false
   },
   "outputs": [
    {
     "data": {
      "text/plain": [
       "2833180L"
      ]
     },
     "execution_count": 9,
     "metadata": {},
     "output_type": "execute_result"
    }
   ],
   "source": [
    "### coupon_visit_train\n",
    "csv_path = DATA_DIR + '/coupon_visit_train.csv' \n",
    "dbcur.execute('''DROP TABLE IF EXISTS coupon_visit_train;''')\n",
    "dbcur.execute('''\n",
    "CREATE TABLE IF NOT EXISTS coupon_visit_train (\n",
    "    purchase_flg INT,\n",
    "    i_date DATETIME,\n",
    "    page_serial INT,\n",
    "    referrer_hash VARCHAR(128),\n",
    "    view_coupon_id_hash VARCHAR(128),\n",
    "    user_id_hash VARCHAR(32),\n",
    "    session_id_hash VARCHAR(128),\n",
    "    purchaseid_hash VARCHAR(32),\n",
    "    INDEX(user_id_hash, i_date),\n",
    "    INDEX(i_date, user_id_hash),\n",
    "    INDEX(view_coupon_id_hash),\n",
    "    INDEX(purchaseid_hash),\n",
    "    INDEX(purchase_flg)\n",
    ") ENGINE=MyISAM DEFAULT CHARSET=utf8\n",
    ";\n",
    "''')\n",
    "\n",
    "dbcur.execute('''\n",
    "LOAD DATA LOCAL INFILE \"''' + csv_path + '''\"\n",
    "INTO TABLE coupon_visit_train\n",
    "CHARACTER SET utf8\n",
    "FIELDS TERMINATED BY ','\n",
    "IGNORE 1 LINES\n",
    "(purchase_flg,i_date,page_serial,referrer_hash,view_coupon_id_hash,user_id_hash,session_id_hash,purchaseid_hash)\n",
    ";\n",
    "''')"
   ]
  },
  {
   "cell_type": "markdown",
   "metadata": {},
   "source": [
    "- coupon_list_train.csv, coupon_list_test.csv  \n",
    "2つともWarningが出ますが、\n",
    "日時の値が正しくないために発生しているだけなので、無視します。  \n",
    "下記のクエリの\n",
    "```SQL\n",
    "SET validperiod=IF(@validperiod = 'NA', Null, @validperiod)\n",
    "```\n",
    "を外すと、おそらくNULLが入ってほしい箇所に0が入ってしまうため、ここでは、NULLがはいるように変換します。"
   ]
  },
  {
   "cell_type": "code",
   "execution_count": 10,
   "metadata": {
    "collapsed": false
   },
   "outputs": [
    {
     "name": "stderr",
     "output_type": "stream",
     "text": [
      "/usr/local/lib/python2.7/dist-packages/IPython/kernel/__main__.py:47: Warning: Data truncated for column 'validfrom' at row 328\n",
      "/usr/local/lib/python2.7/dist-packages/IPython/kernel/__main__.py:47: Warning: Data truncated for column 'validend' at row 328\n",
      "/usr/local/lib/python2.7/dist-packages/IPython/kernel/__main__.py:47: Warning: Data truncated for column 'validfrom' at row 347\n",
      "/usr/local/lib/python2.7/dist-packages/IPython/kernel/__main__.py:47: Warning: Data truncated for column 'validend' at row 347\n",
      "/usr/local/lib/python2.7/dist-packages/IPython/kernel/__main__.py:47: Warning: Data truncated for column 'validfrom' at row 349\n",
      "/usr/local/lib/python2.7/dist-packages/IPython/kernel/__main__.py:47: Warning: Data truncated for column 'validend' at row 349\n",
      "/usr/local/lib/python2.7/dist-packages/IPython/kernel/__main__.py:47: Warning: Data truncated for column 'validfrom' at row 350\n",
      "/usr/local/lib/python2.7/dist-packages/IPython/kernel/__main__.py:47: Warning: Data truncated for column 'validend' at row 350\n",
      "/usr/local/lib/python2.7/dist-packages/IPython/kernel/__main__.py:47: Warning: Data truncated for column 'validfrom' at row 378\n",
      "/usr/local/lib/python2.7/dist-packages/IPython/kernel/__main__.py:47: Warning: Data truncated for column 'validend' at row 378\n",
      "/usr/local/lib/python2.7/dist-packages/IPython/kernel/__main__.py:47: Warning: Data truncated for column 'validfrom' at row 387\n",
      "/usr/local/lib/python2.7/dist-packages/IPython/kernel/__main__.py:47: Warning: Data truncated for column 'validend' at row 387\n",
      "/usr/local/lib/python2.7/dist-packages/IPython/kernel/__main__.py:47: Warning: Data truncated for column 'validfrom' at row 394\n",
      "/usr/local/lib/python2.7/dist-packages/IPython/kernel/__main__.py:47: Warning: Data truncated for column 'validend' at row 394\n",
      "/usr/local/lib/python2.7/dist-packages/IPython/kernel/__main__.py:47: Warning: Data truncated for column 'validfrom' at row 406\n",
      "/usr/local/lib/python2.7/dist-packages/IPython/kernel/__main__.py:47: Warning: Data truncated for column 'validend' at row 406\n",
      "/usr/local/lib/python2.7/dist-packages/IPython/kernel/__main__.py:47: Warning: Data truncated for column 'validfrom' at row 410\n",
      "/usr/local/lib/python2.7/dist-packages/IPython/kernel/__main__.py:47: Warning: Data truncated for column 'validend' at row 410\n",
      "/usr/local/lib/python2.7/dist-packages/IPython/kernel/__main__.py:47: Warning: Data truncated for column 'validfrom' at row 414\n",
      "/usr/local/lib/python2.7/dist-packages/IPython/kernel/__main__.py:47: Warning: Data truncated for column 'validend' at row 414\n",
      "/usr/local/lib/python2.7/dist-packages/IPython/kernel/__main__.py:47: Warning: Data truncated for column 'validfrom' at row 415\n",
      "/usr/local/lib/python2.7/dist-packages/IPython/kernel/__main__.py:47: Warning: Data truncated for column 'validend' at row 415\n",
      "/usr/local/lib/python2.7/dist-packages/IPython/kernel/__main__.py:47: Warning: Data truncated for column 'validfrom' at row 418\n",
      "/usr/local/lib/python2.7/dist-packages/IPython/kernel/__main__.py:47: Warning: Data truncated for column 'validend' at row 418\n",
      "/usr/local/lib/python2.7/dist-packages/IPython/kernel/__main__.py:47: Warning: Data truncated for column 'validfrom' at row 419\n",
      "/usr/local/lib/python2.7/dist-packages/IPython/kernel/__main__.py:47: Warning: Data truncated for column 'validend' at row 419\n",
      "/usr/local/lib/python2.7/dist-packages/IPython/kernel/__main__.py:47: Warning: Data truncated for column 'validfrom' at row 426\n",
      "/usr/local/lib/python2.7/dist-packages/IPython/kernel/__main__.py:47: Warning: Data truncated for column 'validend' at row 426\n",
      "/usr/local/lib/python2.7/dist-packages/IPython/kernel/__main__.py:47: Warning: Data truncated for column 'validfrom' at row 446\n",
      "/usr/local/lib/python2.7/dist-packages/IPython/kernel/__main__.py:47: Warning: Data truncated for column 'validend' at row 446\n",
      "/usr/local/lib/python2.7/dist-packages/IPython/kernel/__main__.py:47: Warning: Data truncated for column 'validfrom' at row 447\n",
      "/usr/local/lib/python2.7/dist-packages/IPython/kernel/__main__.py:47: Warning: Data truncated for column 'validend' at row 447\n",
      "/usr/local/lib/python2.7/dist-packages/IPython/kernel/__main__.py:47: Warning: Data truncated for column 'validfrom' at row 448\n",
      "/usr/local/lib/python2.7/dist-packages/IPython/kernel/__main__.py:47: Warning: Data truncated for column 'validend' at row 448\n",
      "/usr/local/lib/python2.7/dist-packages/IPython/kernel/__main__.py:47: Warning: Data truncated for column 'validfrom' at row 452\n",
      "/usr/local/lib/python2.7/dist-packages/IPython/kernel/__main__.py:47: Warning: Data truncated for column 'validend' at row 452\n",
      "/usr/local/lib/python2.7/dist-packages/IPython/kernel/__main__.py:47: Warning: Data truncated for column 'validfrom' at row 454\n",
      "/usr/local/lib/python2.7/dist-packages/IPython/kernel/__main__.py:47: Warning: Data truncated for column 'validend' at row 454\n",
      "/usr/local/lib/python2.7/dist-packages/IPython/kernel/__main__.py:47: Warning: Data truncated for column 'validfrom' at row 455\n",
      "/usr/local/lib/python2.7/dist-packages/IPython/kernel/__main__.py:47: Warning: Data truncated for column 'validend' at row 455\n",
      "/usr/local/lib/python2.7/dist-packages/IPython/kernel/__main__.py:47: Warning: Data truncated for column 'validfrom' at row 466\n",
      "/usr/local/lib/python2.7/dist-packages/IPython/kernel/__main__.py:47: Warning: Data truncated for column 'validend' at row 466\n",
      "/usr/local/lib/python2.7/dist-packages/IPython/kernel/__main__.py:47: Warning: Data truncated for column 'validfrom' at row 475\n",
      "/usr/local/lib/python2.7/dist-packages/IPython/kernel/__main__.py:47: Warning: Data truncated for column 'validend' at row 475\n",
      "/usr/local/lib/python2.7/dist-packages/IPython/kernel/__main__.py:47: Warning: Data truncated for column 'validfrom' at row 476\n",
      "/usr/local/lib/python2.7/dist-packages/IPython/kernel/__main__.py:47: Warning: Data truncated for column 'validend' at row 476\n",
      "/usr/local/lib/python2.7/dist-packages/IPython/kernel/__main__.py:47: Warning: Data truncated for column 'validfrom' at row 479\n",
      "/usr/local/lib/python2.7/dist-packages/IPython/kernel/__main__.py:47: Warning: Data truncated for column 'validend' at row 479\n",
      "/usr/local/lib/python2.7/dist-packages/IPython/kernel/__main__.py:47: Warning: Data truncated for column 'validfrom' at row 485\n",
      "/usr/local/lib/python2.7/dist-packages/IPython/kernel/__main__.py:47: Warning: Data truncated for column 'validend' at row 485\n",
      "/usr/local/lib/python2.7/dist-packages/IPython/kernel/__main__.py:47: Warning: Data truncated for column 'validfrom' at row 488\n",
      "/usr/local/lib/python2.7/dist-packages/IPython/kernel/__main__.py:47: Warning: Data truncated for column 'validend' at row 488\n",
      "/usr/local/lib/python2.7/dist-packages/IPython/kernel/__main__.py:47: Warning: Data truncated for column 'validfrom' at row 489\n",
      "/usr/local/lib/python2.7/dist-packages/IPython/kernel/__main__.py:47: Warning: Data truncated for column 'validend' at row 489\n",
      "/usr/local/lib/python2.7/dist-packages/IPython/kernel/__main__.py:47: Warning: Data truncated for column 'validfrom' at row 491\n",
      "/usr/local/lib/python2.7/dist-packages/IPython/kernel/__main__.py:47: Warning: Data truncated for column 'validend' at row 491\n",
      "/usr/local/lib/python2.7/dist-packages/IPython/kernel/__main__.py:47: Warning: Data truncated for column 'validfrom' at row 492\n",
      "/usr/local/lib/python2.7/dist-packages/IPython/kernel/__main__.py:47: Warning: Data truncated for column 'validend' at row 492\n",
      "/usr/local/lib/python2.7/dist-packages/IPython/kernel/__main__.py:47: Warning: Data truncated for column 'validfrom' at row 495\n",
      "/usr/local/lib/python2.7/dist-packages/IPython/kernel/__main__.py:47: Warning: Data truncated for column 'validend' at row 495\n",
      "/usr/local/lib/python2.7/dist-packages/IPython/kernel/__main__.py:47: Warning: Data truncated for column 'validfrom' at row 496\n",
      "/usr/local/lib/python2.7/dist-packages/IPython/kernel/__main__.py:47: Warning: Data truncated for column 'validend' at row 496\n",
      "/usr/local/lib/python2.7/dist-packages/IPython/kernel/__main__.py:47: Warning: Data truncated for column 'validfrom' at row 497\n",
      "/usr/local/lib/python2.7/dist-packages/IPython/kernel/__main__.py:47: Warning: Data truncated for column 'validend' at row 497\n"
     ]
    },
    {
     "data": {
      "text/plain": [
       "19413L"
      ]
     },
     "execution_count": 10,
     "metadata": {},
     "output_type": "execute_result"
    }
   ],
   "source": [
    "### coupon_list_train\n",
    "csv_path = DATA_DIR + '/coupon_list_train.csv' \n",
    "dbcur.execute('''DROP TABLE IF EXISTS coupon_list_train;''')\n",
    "dbcur.execute('''\n",
    "CREATE TABLE IF NOT EXISTS coupon_list_train (\n",
    "    capsule_text VARCHAR(20),\n",
    "    genre_name VARCHAR(50),\n",
    "    price_rate INT,\n",
    "    catalog_price INT,\n",
    "    discount_price INT,\n",
    "    dispfrom DATETIME,\n",
    "    dispend DATETIME,\n",
    "    dispperiod INT,\n",
    "    validfrom DATE,\n",
    "    validend DATE,\n",
    "    validperiod INT,\n",
    "    usable_date_mon VARCHAR(7),\n",
    "    usable_date_tue VARCHAR(7),\n",
    "    usable_date_wed VARCHAR(7),\n",
    "    usable_date_thu VARCHAR(7),\n",
    "    usable_date_fri VARCHAR(7),\n",
    "    usable_date_sat VARCHAR(7),\n",
    "    usable_date_sun VARCHAR(7),\n",
    "    usable_date_holiday VARCHAR(7),\n",
    "    usable_date_before_holiday VARCHAR(7),\n",
    "    large_area_name VARCHAR(30),\n",
    "    ken_name VARCHAR(8),\n",
    "    small_area_name VARCHAR(30),\n",
    "    coupon_id_hash VARCHAR(32),\n",
    "    PRIMARY KEY(coupon_id_hash),\n",
    "    INDEX(ken_name),\n",
    "    INDEX(genre_name)\n",
    "    \n",
    ") ENGINE=MyISAM DEFAULT CHARSET=utf8\n",
    ";\n",
    "''')\n",
    "\n",
    "dbcur.execute('''\n",
    "LOAD DATA LOCAL INFILE \"''' + csv_path + '''\"\n",
    "INTO TABLE coupon_list_train\n",
    "CHARACTER SET utf8\n",
    "FIELDS TERMINATED BY ','\n",
    "IGNORE 1 LINES\n",
    "(capsule_text,genre_name,price_rate,catalog_price,discount_price,dispfrom,dispend,dispperiod,validfrom,validend,@validperiod,usable_date_mon,usable_date_tue,usable_date_wed,usable_date_thu,usable_date_fri,usable_date_sat,usable_date_sun,usable_date_holiday,usable_date_before_holiday,large_area_name,ken_name,small_area_name,coupon_id_hash)\n",
    "SET validperiod=IF(@validperiod = 'NA', Null, @validperiod)\n",
    ";\n",
    "''')"
   ]
  },
  {
   "cell_type": "code",
   "execution_count": 11,
   "metadata": {
    "collapsed": false
   },
   "outputs": [
    {
     "name": "stderr",
     "output_type": "stream",
     "text": [
      "/usr/local/lib/python2.7/dist-packages/IPython/kernel/__main__.py:46: Warning: Data truncated for column 'validfrom' at row 24\n",
      "/usr/local/lib/python2.7/dist-packages/IPython/kernel/__main__.py:46: Warning: Data truncated for column 'validend' at row 24\n",
      "/usr/local/lib/python2.7/dist-packages/IPython/kernel/__main__.py:46: Warning: Data truncated for column 'validfrom' at row 25\n",
      "/usr/local/lib/python2.7/dist-packages/IPython/kernel/__main__.py:46: Warning: Data truncated for column 'validend' at row 25\n",
      "/usr/local/lib/python2.7/dist-packages/IPython/kernel/__main__.py:46: Warning: Data truncated for column 'validfrom' at row 26\n",
      "/usr/local/lib/python2.7/dist-packages/IPython/kernel/__main__.py:46: Warning: Data truncated for column 'validend' at row 26\n",
      "/usr/local/lib/python2.7/dist-packages/IPython/kernel/__main__.py:46: Warning: Data truncated for column 'validfrom' at row 29\n",
      "/usr/local/lib/python2.7/dist-packages/IPython/kernel/__main__.py:46: Warning: Data truncated for column 'validend' at row 29\n",
      "/usr/local/lib/python2.7/dist-packages/IPython/kernel/__main__.py:46: Warning: Data truncated for column 'validfrom' at row 30\n",
      "/usr/local/lib/python2.7/dist-packages/IPython/kernel/__main__.py:46: Warning: Data truncated for column 'validend' at row 30\n",
      "/usr/local/lib/python2.7/dist-packages/IPython/kernel/__main__.py:46: Warning: Data truncated for column 'validfrom' at row 31\n",
      "/usr/local/lib/python2.7/dist-packages/IPython/kernel/__main__.py:46: Warning: Data truncated for column 'validend' at row 31\n",
      "/usr/local/lib/python2.7/dist-packages/IPython/kernel/__main__.py:46: Warning: Data truncated for column 'validfrom' at row 34\n",
      "/usr/local/lib/python2.7/dist-packages/IPython/kernel/__main__.py:46: Warning: Data truncated for column 'validend' at row 34\n",
      "/usr/local/lib/python2.7/dist-packages/IPython/kernel/__main__.py:46: Warning: Data truncated for column 'validfrom' at row 41\n",
      "/usr/local/lib/python2.7/dist-packages/IPython/kernel/__main__.py:46: Warning: Data truncated for column 'validend' at row 41\n",
      "/usr/local/lib/python2.7/dist-packages/IPython/kernel/__main__.py:46: Warning: Data truncated for column 'validfrom' at row 43\n",
      "/usr/local/lib/python2.7/dist-packages/IPython/kernel/__main__.py:46: Warning: Data truncated for column 'validend' at row 43\n",
      "/usr/local/lib/python2.7/dist-packages/IPython/kernel/__main__.py:46: Warning: Data truncated for column 'validfrom' at row 44\n",
      "/usr/local/lib/python2.7/dist-packages/IPython/kernel/__main__.py:46: Warning: Data truncated for column 'validend' at row 44\n",
      "/usr/local/lib/python2.7/dist-packages/IPython/kernel/__main__.py:46: Warning: Data truncated for column 'validfrom' at row 45\n",
      "/usr/local/lib/python2.7/dist-packages/IPython/kernel/__main__.py:46: Warning: Data truncated for column 'validend' at row 45\n",
      "/usr/local/lib/python2.7/dist-packages/IPython/kernel/__main__.py:46: Warning: Data truncated for column 'validfrom' at row 53\n",
      "/usr/local/lib/python2.7/dist-packages/IPython/kernel/__main__.py:46: Warning: Data truncated for column 'validend' at row 53\n",
      "/usr/local/lib/python2.7/dist-packages/IPython/kernel/__main__.py:46: Warning: Data truncated for column 'validfrom' at row 54\n",
      "/usr/local/lib/python2.7/dist-packages/IPython/kernel/__main__.py:46: Warning: Data truncated for column 'validend' at row 54\n",
      "/usr/local/lib/python2.7/dist-packages/IPython/kernel/__main__.py:46: Warning: Data truncated for column 'validfrom' at row 58\n",
      "/usr/local/lib/python2.7/dist-packages/IPython/kernel/__main__.py:46: Warning: Data truncated for column 'validend' at row 58\n",
      "/usr/local/lib/python2.7/dist-packages/IPython/kernel/__main__.py:46: Warning: Data truncated for column 'validfrom' at row 59\n",
      "/usr/local/lib/python2.7/dist-packages/IPython/kernel/__main__.py:46: Warning: Data truncated for column 'validend' at row 59\n",
      "/usr/local/lib/python2.7/dist-packages/IPython/kernel/__main__.py:46: Warning: Data truncated for column 'validfrom' at row 60\n",
      "/usr/local/lib/python2.7/dist-packages/IPython/kernel/__main__.py:46: Warning: Data truncated for column 'validend' at row 60\n",
      "/usr/local/lib/python2.7/dist-packages/IPython/kernel/__main__.py:46: Warning: Data truncated for column 'validfrom' at row 61\n",
      "/usr/local/lib/python2.7/dist-packages/IPython/kernel/__main__.py:46: Warning: Data truncated for column 'validend' at row 61\n",
      "/usr/local/lib/python2.7/dist-packages/IPython/kernel/__main__.py:46: Warning: Data truncated for column 'validfrom' at row 62\n",
      "/usr/local/lib/python2.7/dist-packages/IPython/kernel/__main__.py:46: Warning: Data truncated for column 'validend' at row 62\n",
      "/usr/local/lib/python2.7/dist-packages/IPython/kernel/__main__.py:46: Warning: Data truncated for column 'validfrom' at row 63\n",
      "/usr/local/lib/python2.7/dist-packages/IPython/kernel/__main__.py:46: Warning: Data truncated for column 'validend' at row 63\n",
      "/usr/local/lib/python2.7/dist-packages/IPython/kernel/__main__.py:46: Warning: Data truncated for column 'validfrom' at row 66\n",
      "/usr/local/lib/python2.7/dist-packages/IPython/kernel/__main__.py:46: Warning: Data truncated for column 'validend' at row 66\n",
      "/usr/local/lib/python2.7/dist-packages/IPython/kernel/__main__.py:46: Warning: Data truncated for column 'validfrom' at row 67\n",
      "/usr/local/lib/python2.7/dist-packages/IPython/kernel/__main__.py:46: Warning: Data truncated for column 'validend' at row 67\n",
      "/usr/local/lib/python2.7/dist-packages/IPython/kernel/__main__.py:46: Warning: Data truncated for column 'validfrom' at row 68\n",
      "/usr/local/lib/python2.7/dist-packages/IPython/kernel/__main__.py:46: Warning: Data truncated for column 'validend' at row 68\n",
      "/usr/local/lib/python2.7/dist-packages/IPython/kernel/__main__.py:46: Warning: Data truncated for column 'validfrom' at row 69\n",
      "/usr/local/lib/python2.7/dist-packages/IPython/kernel/__main__.py:46: Warning: Data truncated for column 'validend' at row 69\n",
      "/usr/local/lib/python2.7/dist-packages/IPython/kernel/__main__.py:46: Warning: Data truncated for column 'validfrom' at row 72\n",
      "/usr/local/lib/python2.7/dist-packages/IPython/kernel/__main__.py:46: Warning: Data truncated for column 'validend' at row 72\n",
      "/usr/local/lib/python2.7/dist-packages/IPython/kernel/__main__.py:46: Warning: Data truncated for column 'validfrom' at row 74\n",
      "/usr/local/lib/python2.7/dist-packages/IPython/kernel/__main__.py:46: Warning: Data truncated for column 'validend' at row 74\n",
      "/usr/local/lib/python2.7/dist-packages/IPython/kernel/__main__.py:46: Warning: Data truncated for column 'validfrom' at row 75\n",
      "/usr/local/lib/python2.7/dist-packages/IPython/kernel/__main__.py:46: Warning: Data truncated for column 'validend' at row 75\n",
      "/usr/local/lib/python2.7/dist-packages/IPython/kernel/__main__.py:46: Warning: Data truncated for column 'validfrom' at row 76\n",
      "/usr/local/lib/python2.7/dist-packages/IPython/kernel/__main__.py:46: Warning: Data truncated for column 'validend' at row 76\n",
      "/usr/local/lib/python2.7/dist-packages/IPython/kernel/__main__.py:46: Warning: Data truncated for column 'validfrom' at row 84\n",
      "/usr/local/lib/python2.7/dist-packages/IPython/kernel/__main__.py:46: Warning: Data truncated for column 'validend' at row 84\n",
      "/usr/local/lib/python2.7/dist-packages/IPython/kernel/__main__.py:46: Warning: Data truncated for column 'validfrom' at row 90\n",
      "/usr/local/lib/python2.7/dist-packages/IPython/kernel/__main__.py:46: Warning: Data truncated for column 'validend' at row 90\n",
      "/usr/local/lib/python2.7/dist-packages/IPython/kernel/__main__.py:46: Warning: Data truncated for column 'validfrom' at row 91\n",
      "/usr/local/lib/python2.7/dist-packages/IPython/kernel/__main__.py:46: Warning: Data truncated for column 'validend' at row 91\n",
      "/usr/local/lib/python2.7/dist-packages/IPython/kernel/__main__.py:46: Warning: Data truncated for column 'validfrom' at row 108\n",
      "/usr/local/lib/python2.7/dist-packages/IPython/kernel/__main__.py:46: Warning: Data truncated for column 'validend' at row 108\n",
      "/usr/local/lib/python2.7/dist-packages/IPython/kernel/__main__.py:46: Warning: Data truncated for column 'validfrom' at row 109\n",
      "/usr/local/lib/python2.7/dist-packages/IPython/kernel/__main__.py:46: Warning: Data truncated for column 'validend' at row 109\n"
     ]
    },
    {
     "data": {
      "text/plain": [
       "310L"
      ]
     },
     "execution_count": 11,
     "metadata": {},
     "output_type": "execute_result"
    }
   ],
   "source": [
    "### coupon_list_test\n",
    "csv_path = DATA_DIR + '/coupon_list_test.csv' \n",
    "dbcur.execute('''DROP TABLE IF EXISTS coupon_list_test;''')\n",
    "dbcur.execute('''\n",
    "CREATE TABLE IF NOT EXISTS coupon_list_test (\n",
    "    capsule_text VARCHAR(20),\n",
    "    genre_name VARCHAR(50),\n",
    "    price_rate INT,\n",
    "    catalog_price INT,\n",
    "    discount_price INT,\n",
    "    dispfrom DATETIME,\n",
    "    dispend DATETIME,\n",
    "    dispperiod INT,\n",
    "    validfrom DATE,\n",
    "    validend DATE,\n",
    "    validperiod INT,\n",
    "    usable_date_mon VARCHAR(7),\n",
    "    usable_date_tue VARCHAR(7),\n",
    "    usable_date_wed VARCHAR(7),\n",
    "    usable_date_thu VARCHAR(7),\n",
    "    usable_date_fri VARCHAR(7),\n",
    "    usable_date_sat VARCHAR(7),\n",
    "    usable_date_sun VARCHAR(7),\n",
    "    usable_date_holiday VARCHAR(7),\n",
    "    usable_date_before_holiday VARCHAR(7),\n",
    "    large_area_name VARCHAR(30),\n",
    "    ken_name VARCHAR(8),\n",
    "    small_area_name VARCHAR(30),\n",
    "    coupon_id_hash VARCHAR(32),\n",
    "    PRIMARY KEY(coupon_id_hash),\n",
    "    INDEX(ken_name),\n",
    "    INDEX(genre_name)\n",
    ") ENGINE=MyISAM DEFAULT CHARSET=utf8\n",
    ";\n",
    "''')\n",
    "\n",
    "dbcur.execute('''\n",
    "LOAD DATA LOCAL INFILE \"''' + csv_path + '''\"\n",
    "INTO TABLE coupon_list_test\n",
    "CHARACTER SET utf8\n",
    "FIELDS TERMINATED BY ','\n",
    "IGNORE 1 LINES\n",
    "(capsule_text,genre_name,price_rate,catalog_price,discount_price,dispfrom,dispend,dispperiod,validfrom,validend,@validperiod,usable_date_mon,usable_date_tue,usable_date_wed,usable_date_thu,usable_date_fri,usable_date_sat,usable_date_sun,usable_date_holiday,usable_date_before_holiday,large_area_name,ken_name,small_area_name,coupon_id_hash)\n",
    "SET validperiod=IF(@validperiod = 'NA', Null, @validperiod)\n",
    ";\n",
    "''')\n"
   ]
  },
  {
   "cell_type": "markdown",
   "metadata": {},
   "source": [
    "\n",
    "## Links\n",
    "- [matplotlib入門](http://bicycle1885.hatenablog.com/entry/2014/02/14/023734)\n",
    "- [scikit-learn: class and function reference](http://scikit-learn.org/stable/modules/classes.html)\n",
    "- [computational Statistics in Python](http://people.duke.edu/~ccc14/sta-663/index.html)\n",
    "- [Deep Learning Tutorials](http://deeplearning.net/tutorial/)\n",
    "\n",
    "## 謝辞\n",
    "フィードバックをくれた方ありがとうございます！  \n",
    "Kaggleやリクルートの方ありがとうございます！"
   ]
  },
  {
   "cell_type": "code",
   "execution_count": null,
   "metadata": {
    "collapsed": true
   },
   "outputs": [],
   "source": []
  }
 ],
 "metadata": {
  "kernelspec": {
   "display_name": "Python 2",
   "language": "python",
   "name": "python2"
  },
  "language_info": {
   "codemirror_mode": {
    "name": "ipython",
    "version": 2
   },
   "file_extension": ".py",
   "mimetype": "text/x-python",
   "name": "python",
   "nbconvert_exporter": "python",
   "pygments_lexer": "ipython2",
   "version": "2.7.6"
  }
 },
 "nbformat": 4,
 "nbformat_minor": 0
}
